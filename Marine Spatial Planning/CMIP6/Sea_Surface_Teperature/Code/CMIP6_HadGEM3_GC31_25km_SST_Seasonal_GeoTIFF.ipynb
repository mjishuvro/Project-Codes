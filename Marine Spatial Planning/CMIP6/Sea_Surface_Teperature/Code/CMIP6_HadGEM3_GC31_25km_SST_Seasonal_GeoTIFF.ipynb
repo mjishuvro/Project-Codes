{
 "cells": [
  {
   "cell_type": "markdown",
   "id": "26c314ff-1436-447e-9cfe-1403f8cc10d8",
   "metadata": {},
   "source": [
    "# HadGEM3-GC31_25km Seasonal SST GeoTIFF"
   ]
  },
  {
   "cell_type": "code",
   "execution_count": 2,
   "id": "01245b6f-5091-4b57-b3da-e8c6dac2aa49",
   "metadata": {},
   "outputs": [],
   "source": [
    "import xarray as xr\n",
    "import rioxarray\n",
    "import numpy as np\n",
    "import netCDF4\n",
    "import os\n",
    "import cartopy.feature as cfeature\n",
    "import cartopy.crs as ccrs\n",
    "import datetime\n",
    "import matplotlib.pyplot as plt\n",
    "import matplotlib.ticker as ticker\n",
    "import matplotlib.colors as mpl_colors\n",
    "import math\n",
    "import geopandas as gpd\n",
    "import calendar\n",
    "\n",
    "ds = xr.open_dataset(r\"E:\\Script\\MSP_Data_office_PC\\CMIP6\\Data\\HadGEM3-GC31-MM_ssp585_r1i1p1f3_gn_25km.nc\")\n",
    "ouput_folder_path = r\"E:\\Script\\MSP_Data_office_PC\\CMIP6\\Output\"\n",
    "\n",
    "latitude_boundary = [16, 24]\n",
    "longitude_boundary = [81, 95]\n",
    "\n",
    "llc_lat_idx = np.argmin(np.abs(ds['latitude'][:,1].data - latitude_boundary[0]))\n",
    "lrc_lat_idx = np.argmin(np.abs(ds['latitude'][:,1].data - latitude_boundary[1]))\n",
    "\n",
    "llc_lon_idx = np.argmin(np.abs(ds['longitude'][1,:].data - longitude_boundary[0]))\n",
    "lrc_lon_idx = np.argmin(np.abs(ds['longitude'][1,:].data - longitude_boundary[1]))\n",
    "\n",
    "\n",
    "winter_months = [time.data.tolist() for time in ds.time if time.dt.month.data in [1, 2, 12] and time.dt.year.data == 2070]\n",
    "summer_months = [time.data.tolist() for time in ds.time if time.dt.month.data in [6, 7, 8] and time.dt.year.data == 2070]\n",
    "\n",
    "season_dict = {'Winter': winter_months, 'Summer': summer_months}\n",
    "\n",
    "season_ds_list = []\n",
    "\n",
    "for season in season_dict.keys():\n",
    "    \n",
    "    season_ds = ds.sel(time = season_dict[season],\n",
    "                       i = slice(ds['i'][llc_lon_idx].data, ds['i'][lrc_lon_idx].data),\n",
    "                       j = slice(ds['j'][llc_lat_idx].data, ds['j'][lrc_lat_idx].data))\n",
    "    \n",
    "    season_mean_ds = season_ds.mean(dim= ['time'], skipna=True, keep_attrs=True)\n",
    "\n",
    "    season_array = np.array([season], dtype = str)\n",
    "    \n",
    "    for var in season_mean_ds.data_vars:\n",
    "        season_mean_ds[var] = season_mean_ds[var].expand_dims(season=season_array, axis=0)\n",
    "        \n",
    "    ds_name = '{}_ds'.format(season)\n",
    "    ds_name = season_mean_ds\n",
    "    season_ds_list.append(ds_name)\n",
    "\n",
    "combined_sesason_ds = xr.concat(season_ds_list , dim = 'season')\n",
    "season_name_array = combined_sesason_ds['season'].to_numpy()\n",
    "\n",
    "combined_sesason_ds.coords['j'] = combined_sesason_ds['latitude'][:,0].data\n",
    "combined_sesason_ds.coords['i'] = combined_sesason_ds['longitude'][0,:].data\n",
    "\n",
    "for i, season_name in zip(range(0, len(combined_sesason_ds['season'])), season_name_array):\n",
    "    \n",
    "    season_temp_ds = combined_sesason_ds['tos'][i,:,:]\n",
    "    \n",
    "    season_temp_ds.rio.write_crs(\"epsg:4326\", inplace=True)\n",
    "    season_temp_ds.rio.write_nodata(-9999, encoded=True, inplace=True)\n",
    "\n",
    "    season_temp_ds.rio.set_spatial_dims(\"i\", \"j\", inplace = True)\n",
    "\n",
    "    season_temp_ds.rio.to_raster(os.path.join(ouput_folder_path, 'Sea_Surface_Temp_{}_2070.tif'.format(season_name)))"
   ]
  },
  {
   "cell_type": "code",
   "execution_count": null,
   "id": "e9be2a33-6161-416b-b2ce-a281bacf2c60",
   "metadata": {},
   "outputs": [],
   "source": []
  }
 ],
 "metadata": {
  "kernelspec": {
   "display_name": "Python 3 (ipykernel)",
   "language": "python",
   "name": "python3"
  },
  "language_info": {
   "codemirror_mode": {
    "name": "ipython",
    "version": 3
   },
   "file_extension": ".py",
   "mimetype": "text/x-python",
   "name": "python",
   "nbconvert_exporter": "python",
   "pygments_lexer": "ipython3",
   "version": "3.10.11"
  }
 },
 "nbformat": 4,
 "nbformat_minor": 5
}
