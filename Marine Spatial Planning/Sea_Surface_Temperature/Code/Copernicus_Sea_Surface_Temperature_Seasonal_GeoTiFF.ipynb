{
 "cells": [
  {
   "cell_type": "code",
   "execution_count": 5,
   "id": "3ab540c9",
   "metadata": {},
   "outputs": [],
   "source": [
    "import xarray as xr\n",
    "import rioxarray\n",
    "import numpy as np\n",
    "import netCDF4\n",
    "import os\n",
    "\n",
    "input_file_path = r\"G:\\MJI\\SKZ\\Script\\MSP_Data\\Data\\dataset-armor-3d-nrt-monthly_1702244021696.nc\"\n",
    "ouput_folder_path = r\"G:\\MJI\\SKZ\\Script\\MSP_Data\\Output\\Seasonal\\SeaTemp_Copernicus\"\n",
    "\n",
    "monthly_ds = xr.open_dataset(input_file_path, engine = 'netcdf4', decode_times= True, mask_and_scale = False)\n",
    "\n",
    "masked_monthly_ds = monthly_ds.where(monthly_ds != monthly_ds['to'].attrs['_FillValue'])\n",
    "actual_monlthy_ds = masked_monthly_ds*monthly_ds['to'].attrs['scale_factor'] + monthly_ds['to'].attrs['add_offset']\n",
    "\n",
    "winter_months = [time.to_numpy() for time in monthly_ds.time if time.dt.month in [1, 2, 12]]\n",
    "summer_months = [time.to_numpy() for time in monthly_ds.time if time.dt.month in [6, 7, 8]]\n",
    "\n",
    "season_dict = {'Winter': winter_months, 'Summer': summer_months}\n",
    "\n",
    "season_ds_list = []\n",
    "\n",
    "for season in season_dict.keys():\n",
    "    \n",
    "    season_ds = actual_monlthy_ds.sel(time= season_dict[season], latitude = slice(16, 24), longitude = slice(81, 95))\n",
    "    season_mean_ds = season_ds.mean(dim= 'time', skipna=True, keep_attrs=True)\n",
    "\n",
    "    season_array = np.array([season], dtype = str)\n",
    "    \n",
    "    for var in season_mean_ds.data_vars:\n",
    "        season_mean_ds[var] = season_mean_ds[var].expand_dims(season=season_array, axis=0)\n",
    "        \n",
    "    ds_name = '{}_ds'.format(season)\n",
    "    ds_name = season_mean_ds\n",
    "    season_ds_list.append(ds_name)\n",
    "\n",
    "combined_sesason_ds = xr.concat(season_ds_list , dim = 'season')\n",
    "season_name_array = combined_sesason_ds['season'].to_numpy()\n",
    "\n",
    "for i, season_name in zip(range(0, len(combined_sesason_ds['season'])), season_name_array):\n",
    "    \n",
    "    season_temp_ds = combined_sesason_ds['to'][i,0,:,:]\n",
    "    \n",
    "    season_temp_ds.rio.write_crs(\"epsg:4326\", inplace=True)\n",
    "    season_temp_ds.rio.write_nodata(-9999, encoded=True, inplace=True)\n",
    "    \n",
    "    season_temp_ds.rio.to_raster(os.path.join(ouput_folder_path, 'Sea_Surface_Temp_{}_2022.tif'.format(season_name)))\n",
    "    \n",
    "combined_sesason_ds.to_netcdf(os.path.join(ouput_folder_path, 'Copernicus_Seasonal_Sea_Surface_Temperature.nc'))"
   ]
  },
  {
   "cell_type": "code",
   "execution_count": null,
   "id": "7ec05423",
   "metadata": {},
   "outputs": [],
   "source": []
  }
 ],
 "metadata": {
  "kernelspec": {
   "display_name": "Python 3 (ipykernel)",
   "language": "python",
   "name": "python3"
  },
  "language_info": {
   "codemirror_mode": {
    "name": "ipython",
    "version": 3
   },
   "file_extension": ".py",
   "mimetype": "text/x-python",
   "name": "python",
   "nbconvert_exporter": "python",
   "pygments_lexer": "ipython3",
   "version": "3.10.11"
  }
 },
 "nbformat": 4,
 "nbformat_minor": 5
}
