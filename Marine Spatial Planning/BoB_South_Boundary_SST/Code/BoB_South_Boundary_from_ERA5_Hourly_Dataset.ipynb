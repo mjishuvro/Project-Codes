{
 "cells": [
  {
   "cell_type": "code",
   "execution_count": null,
   "id": "dec21bee",
   "metadata": {},
   "outputs": [],
   "source": [
    "import pandas as pd\n",
    "import numpy as np\n",
    "import xarray as xr\n",
    "\n",
    "# Reading the dataset and Bay of Bengal South Boundary Points File\n",
    "ds = xr.open_dataset(r\"G:\\MJI\\SKZ\\Script\\MSP_Data\\BoB_South_Boundary_SST\\Input_File\\ERA5_2019\\SST_Hourly_2019.nc\")\n",
    "df = pd.read_excel(r\"G:\\MJI\\SKZ\\Script\\MSP_Data\\BoB_South_Boundary_SST\\Input_File\\BoB_South_Boundary_Line_Points.xlsx\")\n",
    "\n",
    "# Defining a dataframe to store the extracted data\n",
    "ts_df = pd.DataFrame()\n",
    "\n",
    "# Iterating through all the points and extracting nearest grid point data from the dataset\n",
    "for lat, lon, point_id in zip(df[\"Lat\"], df[\"Lon\"], df[\"Point_ID\"]):\n",
    "\n",
    "    sst_data = ds[\"sst\"].sel(longitude = lon, latitude = lat, method=\"nearest\")\n",
    "    grid_lon = sst_data[\"longitude\"].data\n",
    "    grid_lat = sst_data[\"latitude\"].data\n",
    "    \n",
    "    point_sst_df = pd.DataFrame( {'Time': ds[\"sst\"].time.data, \n",
    "                                  '{}_{}_{}'.format(point_id, grid_lat, grid_lon ): sst_data.data} )\n",
    "\n",
    "    if point_id == 1:\n",
    "        ts_df = pd.concat([ts_df, point_sst_df])\n",
    "\n",
    "    else:\n",
    "        ts_df = ts_df.merge(point_sst_df, on = 'Time')\n",
    "\n",
    "# Saving the extracted merged dataframe as csv file\n",
    "ts_df.to_csv(r\"ERA5_Hourly_Sea_Surface_Temperature_in_Kelvin_2019.csv\", index = False, float_format = \"%.4f\")"
   ]
  }
 ],
 "metadata": {
  "kernelspec": {
   "display_name": "Python 3 (ipykernel)",
   "language": "python",
   "name": "python3"
  },
  "language_info": {
   "codemirror_mode": {
    "name": "ipython",
    "version": 3
   },
   "file_extension": ".py",
   "mimetype": "text/x-python",
   "name": "python",
   "nbconvert_exporter": "python",
   "pygments_lexer": "ipython3",
   "version": "3.7.7"
  }
 },
 "nbformat": 4,
 "nbformat_minor": 5
}
