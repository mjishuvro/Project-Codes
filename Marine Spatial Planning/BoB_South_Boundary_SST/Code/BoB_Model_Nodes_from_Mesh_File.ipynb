{
 "cells": [
  {
   "cell_type": "code",
   "execution_count": 4,
   "id": "d8cf14e3",
   "metadata": {},
   "outputs": [],
   "source": [
    "import pandas as pd\n",
    "import math\n",
    "\n",
    "txt_file = open(r\"E:\\Script\\BoB_South_Boundary_SST\\Data\\All_Node_Points.txt\", \"rt\")\n",
    "lines = txt_file.read()\n",
    "\n",
    "item_list = lines.split(\" \")\n",
    "\n",
    "x_coord = []\n",
    "y_coord = []\n",
    "\n",
    "for i in range(1, math.ceil(len(item_list)/5)):\n",
    "    index = (4+(i-1)*5)\n",
    "    if  index > len(item_list) -1:\n",
    "        break\n",
    "    \n",
    "    else:\n",
    "        x_value = item_list[(3+(i-1)*5)]\n",
    "        y_value = item_list[(4+(i-1)*5)]\n",
    "    \n",
    "        x_coord.append(x_value)\n",
    "        y_coord.append(y_value)\n",
    "\n",
    "xy_df = pd.DataFrame({'BTM_X' : x_coord , 'BTM_Y' : y_coord})\n",
    "\n",
    "xy_df.to_csv(r'E:\\Script\\BoB_South_Boundary_SST/BoB_Grid_Node.csv')"
   ]
  },
  {
   "cell_type": "code",
   "execution_count": null,
   "id": "894ca575",
   "metadata": {},
   "outputs": [],
   "source": []
  }
 ],
 "metadata": {
  "kernelspec": {
   "display_name": "Python 3 (ipykernel)",
   "language": "python",
   "name": "python3"
  },
  "language_info": {
   "codemirror_mode": {
    "name": "ipython",
    "version": 3
   },
   "file_extension": ".py",
   "mimetype": "text/x-python",
   "name": "python",
   "nbconvert_exporter": "python",
   "pygments_lexer": "ipython3",
   "version": "3.7.7"
  }
 },
 "nbformat": 4,
 "nbformat_minor": 5
}
