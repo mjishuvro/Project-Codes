{
 "cells": [
  {
   "cell_type": "code",
   "execution_count": 3,
   "id": "0c5c8b57",
   "metadata": {},
   "outputs": [
    {
     "name": "stdout",
     "output_type": "stream",
     "text": [
      "Location85\n",
      "Location86\n",
      "Location87\n"
     ]
    }
   ],
   "source": [
    "# Note: Timeseries must contain only one column if multiple column exists then\n",
    "# first column will be taken as by default which can be changed \n",
    "# by setting the 'pfs.EvaEditor.DefineEVS.ItemName' name in Extreme value series block\n",
    "\n",
    "import mikeio\n",
    "import os\n",
    "import glob\n",
    "import pandas as pd\n",
    "import numpy as np\n",
    "\n",
    "# Reading the template pfs file\n",
    "pfs = mikeio.read_pfs(r\"G:\\MJI\\SKZ\\Script\\Strom Surge stastical Analysis_Trial\\Eva\\template.EVA\")\n",
    "\n",
    "# Setting the return period for analysis\n",
    "period_list = [10, 25, 50, 100]\n",
    "\n",
    "# Setting the output pfs folder path\n",
    "output_pfs_path = r'G:\\MJI\\SKZ\\Script\\Strom Surge stastical Analysis_Trial\\Eva'\n",
    "\n",
    "# Iterating through all the timseries folder to create individual extreme value analysis pfs file\n",
    "for file in glob.glob(r'G:\\MJI\\SKZ\\Script\\Strom Surge stastical Analysis_Trial\\Time Series\\*.dfs0'):\n",
    "    \n",
    "    file_path_list = file.split(os.sep)\n",
    "\n",
    "    # EXTRACTING EXTREME VALUE SERIES\n",
    "\n",
    "    # Setting the input timeseries\n",
    "    input_ts_path_list = os.path.split(pfs.EvaEditor.BasicInput.InputFileName)\n",
    "    input_ts_file_path = os.path.join(input_ts_path_list[0],file_path_list[-1])\n",
    "    \n",
    "    pfs.EvaEditor.BasicInput.InputFileName = input_ts_file_path\n",
    "    \n",
    "    # Setting the output time series\n",
    "    output_ts_path_list = os.path.split(pfs.EvaEditor.BasicInput.OutputFileName)\n",
    "    output_ts_file_path = os.path.join(output_ts_path_list[0],file_path_list[-1])\n",
    "    \n",
    "    pfs.EvaEditor.BasicInput.OutputFileName = output_ts_file_path\n",
    "    \n",
    "    \n",
    "    # DEFINING EXTREME VALUE SERIES\n",
    "    \n",
    "    # Setting the input timeseies\n",
    "    extracted_ts_file_path = output_ts_file_path\n",
    "    \n",
    "    pfs.EvaEditor.DefineEVS.InputFileName = extracted_ts_file_path\n",
    "    \n",
    "    # Setting EVS result file name\n",
    "    res_file_path_list = os.path.split(pfs.EvaEditor.DefineEVS.OutputFileName)\n",
    "    output_res_file_path = os.path.join(res_file_path_list[0], '{}.res'.format(file_path_list[-1][:-5]))\n",
    "    \n",
    "    pfs.EvaEditor.DefineEVS.OutputFileName = output_res_file_path\n",
    "    \n",
    "    # Setting the EVS title\n",
    "    pfs.EvaEditor.DefineEVS.Title = 'Storm Surge Extreme Value Analysis'\n",
    "    \n",
    "    # Setting the EVS subtitle\n",
    "    pfs.EvaEditor.DefineEVS.Subtitle = file_path_list[-1][:-5]\n",
    "    \n",
    "    \n",
    "    # ADDING THE ANALYSIS PARAMETER\n",
    "    \n",
    "    # Setting total number return period for analysis\n",
    "    pfs.EvaEditor.Analysis.EvaluatedReturnPeriods.NoOfItems = len(period_list)\n",
    "    \n",
    "    # Adding each return period analysis in the block of the pfs file\n",
    "    # adding 'white space' to differentiate since name has be to same ('Item')\n",
    "    for i, period in zip(range(0, len(period_list),1), period_list):\n",
    "        pfs.EvaEditor.Analysis.EvaluatedReturnPeriods['Item{}'.format(' '*i)] = period\n",
    "    \n",
    "    \n",
    "    # WRITING THE PFS FILE\n",
    "    pfs.write(os.path.join(output_pfs_path, '{}.EVA'.format(file_path_list[-1][:-5])))\n",
    "    \n",
    "    print(file_path_list[-1][:-5])"
   ]
  },
  {
   "cell_type": "code",
   "execution_count": null,
   "id": "567af708",
   "metadata": {},
   "outputs": [],
   "source": []
  }
 ],
 "metadata": {
  "kernelspec": {
   "display_name": "Python 3 (ipykernel)",
   "language": "python",
   "name": "python3"
  },
  "language_info": {
   "codemirror_mode": {
    "name": "ipython",
    "version": 3
   },
   "file_extension": ".py",
   "mimetype": "text/x-python",
   "name": "python",
   "nbconvert_exporter": "python",
   "pygments_lexer": "ipython3",
   "version": "3.7.7"
  }
 },
 "nbformat": 4,
 "nbformat_minor": 5
}
