{
 "cells": [
  {
   "cell_type": "code",
   "execution_count": 2,
   "id": "101dcc12-5a23-4847-b035-6b765bc84a76",
   "metadata": {},
   "outputs": [],
   "source": [
    "import pandas as pd\n",
    "import numpy as np\n",
    "import os\n",
    "import glob"
   ]
  },
  {
   "cell_type": "code",
   "execution_count": 3,
   "id": "7a6c1f23-2e58-4036-a800-d3db6d381062",
   "metadata": {},
   "outputs": [],
   "source": [
    "df = pd.read_excel(r\"G:\\MJI\\SKZ\\Script\\From RAJ\\CMIP6_grid_dharla_river.xlsx\")"
   ]
  },
  {
   "cell_type": "code",
   "execution_count": 6,
   "id": "9648b8a5-81dd-4aa2-a487-f40b8bc866be",
   "metadata": {},
   "outputs": [
    {
     "data": {
      "text/html": [
       "<div>\n",
       "<style scoped>\n",
       "    .dataframe tbody tr th:only-of-type {\n",
       "        vertical-align: middle;\n",
       "    }\n",
       "\n",
       "    .dataframe tbody tr th {\n",
       "        vertical-align: top;\n",
       "    }\n",
       "\n",
       "    .dataframe thead th {\n",
       "        text-align: right;\n",
       "    }\n",
       "</style>\n",
       "<table border=\"1\" class=\"dataframe\">\n",
       "  <thead>\n",
       "    <tr style=\"text-align: right;\">\n",
       "      <th></th>\n",
       "      <th>ID</th>\n",
       "      <th>Longitude</th>\n",
       "      <th>Latitude</th>\n",
       "    </tr>\n",
       "  </thead>\n",
       "  <tbody>\n",
       "    <tr>\n",
       "      <th>0</th>\n",
       "      <td>1</td>\n",
       "      <td>88.625</td>\n",
       "      <td>26.625</td>\n",
       "    </tr>\n",
       "    <tr>\n",
       "      <th>1</th>\n",
       "      <td>2</td>\n",
       "      <td>88.625</td>\n",
       "      <td>26.875</td>\n",
       "    </tr>\n",
       "    <tr>\n",
       "      <th>2</th>\n",
       "      <td>3</td>\n",
       "      <td>88.625</td>\n",
       "      <td>27.125</td>\n",
       "    </tr>\n",
       "    <tr>\n",
       "      <th>3</th>\n",
       "      <td>4</td>\n",
       "      <td>88.625</td>\n",
       "      <td>27.375</td>\n",
       "    </tr>\n",
       "    <tr>\n",
       "      <th>4</th>\n",
       "      <td>5</td>\n",
       "      <td>88.875</td>\n",
       "      <td>26.125</td>\n",
       "    </tr>\n",
       "  </tbody>\n",
       "</table>\n",
       "</div>"
      ],
      "text/plain": [
       "   ID  Longitude  Latitude\n",
       "0   1     88.625    26.625\n",
       "1   2     88.625    26.875\n",
       "2   3     88.625    27.125\n",
       "3   4     88.625    27.375\n",
       "4   5     88.875    26.125"
      ]
     },
     "execution_count": 6,
     "metadata": {},
     "output_type": "execute_result"
    }
   ],
   "source": [
    "df.head()"
   ]
  },
  {
   "cell_type": "code",
   "execution_count": 7,
   "id": "d6ab2c84-c6e8-49c2-a10a-6209dc5e9a8e",
   "metadata": {},
   "outputs": [],
   "source": [
    "roi_dict = {}\n",
    "\n",
    "for id, lon, lat in zip(df['ID'], df['Longitude'], df['Latitude']):\n",
    "    point_dict = {}\n",
    "    \n",
    "    point_dict['Lon'] = lon\n",
    "    point_dict['Lat'] = lat\n",
    "\n",
    "    roi_dict[id] = point_dict"
   ]
  },
  {
   "cell_type": "code",
   "execution_count": 8,
   "id": "b38ac88a-6080-4d46-b2c8-004458c68844",
   "metadata": {},
   "outputs": [
    {
     "data": {
      "text/plain": [
       "{1: {'Lon': 88.625, 'Lat': 26.625},\n",
       " 2: {'Lon': 88.625, 'Lat': 26.875},\n",
       " 3: {'Lon': 88.625, 'Lat': 27.125},\n",
       " 4: {'Lon': 88.625, 'Lat': 27.375},\n",
       " 5: {'Lon': 88.875, 'Lat': 26.125},\n",
       " 6: {'Lon': 88.875, 'Lat': 26.375},\n",
       " 7: {'Lon': 88.875, 'Lat': 26.625},\n",
       " 8: {'Lon': 88.875, 'Lat': 26.875},\n",
       " 9: {'Lon': 88.875, 'Lat': 27.125},\n",
       " 10: {'Lon': 88.875, 'Lat': 27.375},\n",
       " 11: {'Lon': 89.125, 'Lat': 25.875},\n",
       " 12: {'Lon': 89.125, 'Lat': 26.125},\n",
       " 13: {'Lon': 89.125, 'Lat': 26.375},\n",
       " 14: {'Lon': 89.125, 'Lat': 26.625},\n",
       " 15: {'Lon': 89.125, 'Lat': 26.875},\n",
       " 16: {'Lon': 89.125, 'Lat': 27.125},\n",
       " 17: {'Lon': 89.125, 'Lat': 27.375},\n",
       " 18: {'Lon': 89.375, 'Lat': 25.875},\n",
       " 19: {'Lon': 89.375, 'Lat': 26.125},\n",
       " 20: {'Lon': 89.375, 'Lat': 26.375},\n",
       " 21: {'Lon': 89.375, 'Lat': 26.625},\n",
       " 22: {'Lon': 89.375, 'Lat': 26.875},\n",
       " 23: {'Lon': 89.625, 'Lat': 25.875},\n",
       " 24: {'Lon': 89.625, 'Lat': 26.125},\n",
       " 25: {'Lon': 89.875, 'Lat': 25.875}}"
      ]
     },
     "execution_count": 8,
     "metadata": {},
     "output_type": "execute_result"
    }
   ],
   "source": [
    "roi_dict"
   ]
  },
  {
   "cell_type": "code",
   "execution_count": 9,
   "id": "f76bd38c-cfd1-43d8-b0b5-26e02ba982bc",
   "metadata": {},
   "outputs": [],
   "source": [
    "data_df = pd.read_csv(r\"G:\\MJI\\SKZ\\Script\\From RAJ\\PrecipData.csv\")"
   ]
  },
  {
   "cell_type": "code",
   "execution_count": 10,
   "id": "2ff123a4-eb00-4d08-9d4d-d245acbd7d01",
   "metadata": {},
   "outputs": [
    {
     "data": {
      "text/html": [
       "<div>\n",
       "<style scoped>\n",
       "    .dataframe tbody tr th:only-of-type {\n",
       "        vertical-align: middle;\n",
       "    }\n",
       "\n",
       "    .dataframe tbody tr th {\n",
       "        vertical-align: top;\n",
       "    }\n",
       "\n",
       "    .dataframe thead th {\n",
       "        text-align: right;\n",
       "    }\n",
       "</style>\n",
       "<table border=\"1\" class=\"dataframe\">\n",
       "  <thead>\n",
       "    <tr style=\"text-align: right;\">\n",
       "      <th></th>\n",
       "      <th>date</th>\n",
       "      <th>('88.625', '26.625')</th>\n",
       "      <th>('88.625', '26.875')</th>\n",
       "      <th>('88.625', '27.125')</th>\n",
       "      <th>('88.625', '27.375')</th>\n",
       "      <th>('88.875', '26.125')</th>\n",
       "      <th>('88.875', '26.375')</th>\n",
       "      <th>('88.875', '26.625')</th>\n",
       "      <th>('88.875', '26.875')</th>\n",
       "      <th>('88.875', '27.125')</th>\n",
       "      <th>...</th>\n",
       "      <th>('89.375', '25.875')</th>\n",
       "      <th>('89.375', '26.125')</th>\n",
       "      <th>('89.375', '26.375')</th>\n",
       "      <th>('89.375', '26.625')</th>\n",
       "      <th>('89.375', '26.875')</th>\n",
       "      <th>('89.625', '25.875')</th>\n",
       "      <th>('89.625', '26.125')</th>\n",
       "      <th>('89.875', '25.875')</th>\n",
       "      <th>model</th>\n",
       "      <th>projection</th>\n",
       "    </tr>\n",
       "  </thead>\n",
       "  <tbody>\n",
       "    <tr>\n",
       "      <th>0</th>\n",
       "      <td>1951-01-01</td>\n",
       "      <td>1.39</td>\n",
       "      <td>1.88</td>\n",
       "      <td>2.23</td>\n",
       "      <td>3.13</td>\n",
       "      <td>0.0</td>\n",
       "      <td>0.34</td>\n",
       "      <td>0.8</td>\n",
       "      <td>1.31</td>\n",
       "      <td>0.0</td>\n",
       "      <td>...</td>\n",
       "      <td>0.0</td>\n",
       "      <td>0.0</td>\n",
       "      <td>0.0</td>\n",
       "      <td>0.14</td>\n",
       "      <td>0.0</td>\n",
       "      <td>0.0</td>\n",
       "      <td>0.0</td>\n",
       "      <td>0.0</td>\n",
       "      <td>ACCESS-CM2</td>\n",
       "      <td>historical</td>\n",
       "    </tr>\n",
       "    <tr>\n",
       "      <th>1</th>\n",
       "      <td>1951-01-02</td>\n",
       "      <td>0.00</td>\n",
       "      <td>0.00</td>\n",
       "      <td>0.00</td>\n",
       "      <td>0.00</td>\n",
       "      <td>0.0</td>\n",
       "      <td>0.00</td>\n",
       "      <td>0.0</td>\n",
       "      <td>0.00</td>\n",
       "      <td>0.0</td>\n",
       "      <td>...</td>\n",
       "      <td>0.0</td>\n",
       "      <td>0.0</td>\n",
       "      <td>0.0</td>\n",
       "      <td>0.00</td>\n",
       "      <td>0.0</td>\n",
       "      <td>0.0</td>\n",
       "      <td>0.0</td>\n",
       "      <td>0.0</td>\n",
       "      <td>ACCESS-CM2</td>\n",
       "      <td>historical</td>\n",
       "    </tr>\n",
       "    <tr>\n",
       "      <th>2</th>\n",
       "      <td>1951-01-03</td>\n",
       "      <td>0.00</td>\n",
       "      <td>0.00</td>\n",
       "      <td>0.00</td>\n",
       "      <td>0.00</td>\n",
       "      <td>0.0</td>\n",
       "      <td>0.00</td>\n",
       "      <td>0.0</td>\n",
       "      <td>0.00</td>\n",
       "      <td>0.0</td>\n",
       "      <td>...</td>\n",
       "      <td>0.0</td>\n",
       "      <td>0.0</td>\n",
       "      <td>0.0</td>\n",
       "      <td>0.00</td>\n",
       "      <td>0.0</td>\n",
       "      <td>0.0</td>\n",
       "      <td>0.0</td>\n",
       "      <td>0.0</td>\n",
       "      <td>ACCESS-CM2</td>\n",
       "      <td>historical</td>\n",
       "    </tr>\n",
       "    <tr>\n",
       "      <th>3</th>\n",
       "      <td>1951-01-04</td>\n",
       "      <td>0.00</td>\n",
       "      <td>0.00</td>\n",
       "      <td>0.00</td>\n",
       "      <td>0.00</td>\n",
       "      <td>0.0</td>\n",
       "      <td>0.00</td>\n",
       "      <td>0.0</td>\n",
       "      <td>0.00</td>\n",
       "      <td>0.0</td>\n",
       "      <td>...</td>\n",
       "      <td>0.0</td>\n",
       "      <td>0.0</td>\n",
       "      <td>0.0</td>\n",
       "      <td>0.00</td>\n",
       "      <td>0.0</td>\n",
       "      <td>0.0</td>\n",
       "      <td>0.0</td>\n",
       "      <td>0.0</td>\n",
       "      <td>ACCESS-CM2</td>\n",
       "      <td>historical</td>\n",
       "    </tr>\n",
       "    <tr>\n",
       "      <th>4</th>\n",
       "      <td>1951-01-05</td>\n",
       "      <td>0.17</td>\n",
       "      <td>0.61</td>\n",
       "      <td>1.32</td>\n",
       "      <td>2.60</td>\n",
       "      <td>0.0</td>\n",
       "      <td>0.00</td>\n",
       "      <td>0.0</td>\n",
       "      <td>0.30</td>\n",
       "      <td>0.0</td>\n",
       "      <td>...</td>\n",
       "      <td>0.0</td>\n",
       "      <td>0.0</td>\n",
       "      <td>0.0</td>\n",
       "      <td>0.00</td>\n",
       "      <td>0.0</td>\n",
       "      <td>0.0</td>\n",
       "      <td>0.0</td>\n",
       "      <td>0.0</td>\n",
       "      <td>ACCESS-CM2</td>\n",
       "      <td>historical</td>\n",
       "    </tr>\n",
       "    <tr>\n",
       "      <th>...</th>\n",
       "      <td>...</td>\n",
       "      <td>...</td>\n",
       "      <td>...</td>\n",
       "      <td>...</td>\n",
       "      <td>...</td>\n",
       "      <td>...</td>\n",
       "      <td>...</td>\n",
       "      <td>...</td>\n",
       "      <td>...</td>\n",
       "      <td>...</td>\n",
       "      <td>...</td>\n",
       "      <td>...</td>\n",
       "      <td>...</td>\n",
       "      <td>...</td>\n",
       "      <td>...</td>\n",
       "      <td>...</td>\n",
       "      <td>...</td>\n",
       "      <td>...</td>\n",
       "      <td>...</td>\n",
       "      <td>...</td>\n",
       "      <td>...</td>\n",
       "    </tr>\n",
       "    <tr>\n",
       "      <th>1120221</th>\n",
       "      <td>2100-12-27</td>\n",
       "      <td>0.00</td>\n",
       "      <td>0.00</td>\n",
       "      <td>0.00</td>\n",
       "      <td>0.00</td>\n",
       "      <td>0.0</td>\n",
       "      <td>0.00</td>\n",
       "      <td>0.0</td>\n",
       "      <td>0.00</td>\n",
       "      <td>0.0</td>\n",
       "      <td>...</td>\n",
       "      <td>0.0</td>\n",
       "      <td>0.0</td>\n",
       "      <td>0.0</td>\n",
       "      <td>0.00</td>\n",
       "      <td>0.0</td>\n",
       "      <td>0.0</td>\n",
       "      <td>0.0</td>\n",
       "      <td>0.0</td>\n",
       "      <td>NorESM2-MM</td>\n",
       "      <td>ssp585</td>\n",
       "    </tr>\n",
       "    <tr>\n",
       "      <th>1120222</th>\n",
       "      <td>2100-12-28</td>\n",
       "      <td>0.00</td>\n",
       "      <td>0.00</td>\n",
       "      <td>0.00</td>\n",
       "      <td>0.00</td>\n",
       "      <td>0.0</td>\n",
       "      <td>0.00</td>\n",
       "      <td>0.0</td>\n",
       "      <td>0.00</td>\n",
       "      <td>0.0</td>\n",
       "      <td>...</td>\n",
       "      <td>0.0</td>\n",
       "      <td>0.0</td>\n",
       "      <td>0.0</td>\n",
       "      <td>0.00</td>\n",
       "      <td>0.0</td>\n",
       "      <td>0.0</td>\n",
       "      <td>0.0</td>\n",
       "      <td>0.0</td>\n",
       "      <td>NorESM2-MM</td>\n",
       "      <td>ssp585</td>\n",
       "    </tr>\n",
       "    <tr>\n",
       "      <th>1120223</th>\n",
       "      <td>2100-12-29</td>\n",
       "      <td>0.00</td>\n",
       "      <td>0.00</td>\n",
       "      <td>0.00</td>\n",
       "      <td>0.00</td>\n",
       "      <td>0.0</td>\n",
       "      <td>0.00</td>\n",
       "      <td>0.0</td>\n",
       "      <td>0.00</td>\n",
       "      <td>0.0</td>\n",
       "      <td>...</td>\n",
       "      <td>0.0</td>\n",
       "      <td>0.0</td>\n",
       "      <td>0.0</td>\n",
       "      <td>0.00</td>\n",
       "      <td>0.0</td>\n",
       "      <td>0.0</td>\n",
       "      <td>0.0</td>\n",
       "      <td>0.0</td>\n",
       "      <td>NorESM2-MM</td>\n",
       "      <td>ssp585</td>\n",
       "    </tr>\n",
       "    <tr>\n",
       "      <th>1120224</th>\n",
       "      <td>2100-12-30</td>\n",
       "      <td>0.00</td>\n",
       "      <td>0.00</td>\n",
       "      <td>0.00</td>\n",
       "      <td>0.00</td>\n",
       "      <td>0.0</td>\n",
       "      <td>0.00</td>\n",
       "      <td>0.0</td>\n",
       "      <td>0.00</td>\n",
       "      <td>0.0</td>\n",
       "      <td>...</td>\n",
       "      <td>0.0</td>\n",
       "      <td>0.0</td>\n",
       "      <td>0.0</td>\n",
       "      <td>0.00</td>\n",
       "      <td>0.0</td>\n",
       "      <td>0.0</td>\n",
       "      <td>0.0</td>\n",
       "      <td>0.0</td>\n",
       "      <td>NorESM2-MM</td>\n",
       "      <td>ssp585</td>\n",
       "    </tr>\n",
       "    <tr>\n",
       "      <th>1120225</th>\n",
       "      <td>2100-12-31</td>\n",
       "      <td>0.00</td>\n",
       "      <td>0.00</td>\n",
       "      <td>0.00</td>\n",
       "      <td>0.00</td>\n",
       "      <td>0.0</td>\n",
       "      <td>0.00</td>\n",
       "      <td>0.0</td>\n",
       "      <td>0.00</td>\n",
       "      <td>0.0</td>\n",
       "      <td>...</td>\n",
       "      <td>0.0</td>\n",
       "      <td>0.0</td>\n",
       "      <td>0.0</td>\n",
       "      <td>0.00</td>\n",
       "      <td>0.0</td>\n",
       "      <td>0.0</td>\n",
       "      <td>0.0</td>\n",
       "      <td>0.0</td>\n",
       "      <td>NorESM2-MM</td>\n",
       "      <td>ssp585</td>\n",
       "    </tr>\n",
       "  </tbody>\n",
       "</table>\n",
       "<p>1120226 rows × 28 columns</p>\n",
       "</div>"
      ],
      "text/plain": [
       "               date  ('88.625', '26.625')  ('88.625', '26.875')  \\\n",
       "0        1951-01-01                  1.39                  1.88   \n",
       "1        1951-01-02                  0.00                  0.00   \n",
       "2        1951-01-03                  0.00                  0.00   \n",
       "3        1951-01-04                  0.00                  0.00   \n",
       "4        1951-01-05                  0.17                  0.61   \n",
       "...             ...                   ...                   ...   \n",
       "1120221  2100-12-27                  0.00                  0.00   \n",
       "1120222  2100-12-28                  0.00                  0.00   \n",
       "1120223  2100-12-29                  0.00                  0.00   \n",
       "1120224  2100-12-30                  0.00                  0.00   \n",
       "1120225  2100-12-31                  0.00                  0.00   \n",
       "\n",
       "         ('88.625', '27.125')  ('88.625', '27.375')  ('88.875', '26.125')  \\\n",
       "0                        2.23                  3.13                   0.0   \n",
       "1                        0.00                  0.00                   0.0   \n",
       "2                        0.00                  0.00                   0.0   \n",
       "3                        0.00                  0.00                   0.0   \n",
       "4                        1.32                  2.60                   0.0   \n",
       "...                       ...                   ...                   ...   \n",
       "1120221                  0.00                  0.00                   0.0   \n",
       "1120222                  0.00                  0.00                   0.0   \n",
       "1120223                  0.00                  0.00                   0.0   \n",
       "1120224                  0.00                  0.00                   0.0   \n",
       "1120225                  0.00                  0.00                   0.0   \n",
       "\n",
       "         ('88.875', '26.375')  ('88.875', '26.625')  ('88.875', '26.875')  \\\n",
       "0                        0.34                   0.8                  1.31   \n",
       "1                        0.00                   0.0                  0.00   \n",
       "2                        0.00                   0.0                  0.00   \n",
       "3                        0.00                   0.0                  0.00   \n",
       "4                        0.00                   0.0                  0.30   \n",
       "...                       ...                   ...                   ...   \n",
       "1120221                  0.00                   0.0                  0.00   \n",
       "1120222                  0.00                   0.0                  0.00   \n",
       "1120223                  0.00                   0.0                  0.00   \n",
       "1120224                  0.00                   0.0                  0.00   \n",
       "1120225                  0.00                   0.0                  0.00   \n",
       "\n",
       "         ('88.875', '27.125')  ...  ('89.375', '25.875')  \\\n",
       "0                         0.0  ...                   0.0   \n",
       "1                         0.0  ...                   0.0   \n",
       "2                         0.0  ...                   0.0   \n",
       "3                         0.0  ...                   0.0   \n",
       "4                         0.0  ...                   0.0   \n",
       "...                       ...  ...                   ...   \n",
       "1120221                   0.0  ...                   0.0   \n",
       "1120222                   0.0  ...                   0.0   \n",
       "1120223                   0.0  ...                   0.0   \n",
       "1120224                   0.0  ...                   0.0   \n",
       "1120225                   0.0  ...                   0.0   \n",
       "\n",
       "         ('89.375', '26.125')  ('89.375', '26.375')  ('89.375', '26.625')  \\\n",
       "0                         0.0                   0.0                  0.14   \n",
       "1                         0.0                   0.0                  0.00   \n",
       "2                         0.0                   0.0                  0.00   \n",
       "3                         0.0                   0.0                  0.00   \n",
       "4                         0.0                   0.0                  0.00   \n",
       "...                       ...                   ...                   ...   \n",
       "1120221                   0.0                   0.0                  0.00   \n",
       "1120222                   0.0                   0.0                  0.00   \n",
       "1120223                   0.0                   0.0                  0.00   \n",
       "1120224                   0.0                   0.0                  0.00   \n",
       "1120225                   0.0                   0.0                  0.00   \n",
       "\n",
       "         ('89.375', '26.875')  ('89.625', '25.875')  ('89.625', '26.125')  \\\n",
       "0                         0.0                   0.0                   0.0   \n",
       "1                         0.0                   0.0                   0.0   \n",
       "2                         0.0                   0.0                   0.0   \n",
       "3                         0.0                   0.0                   0.0   \n",
       "4                         0.0                   0.0                   0.0   \n",
       "...                       ...                   ...                   ...   \n",
       "1120221                   0.0                   0.0                   0.0   \n",
       "1120222                   0.0                   0.0                   0.0   \n",
       "1120223                   0.0                   0.0                   0.0   \n",
       "1120224                   0.0                   0.0                   0.0   \n",
       "1120225                   0.0                   0.0                   0.0   \n",
       "\n",
       "         ('89.875', '25.875')       model  projection  \n",
       "0                         0.0  ACCESS-CM2  historical  \n",
       "1                         0.0  ACCESS-CM2  historical  \n",
       "2                         0.0  ACCESS-CM2  historical  \n",
       "3                         0.0  ACCESS-CM2  historical  \n",
       "4                         0.0  ACCESS-CM2  historical  \n",
       "...                       ...         ...         ...  \n",
       "1120221                   0.0  NorESM2-MM      ssp585  \n",
       "1120222                   0.0  NorESM2-MM      ssp585  \n",
       "1120223                   0.0  NorESM2-MM      ssp585  \n",
       "1120224                   0.0  NorESM2-MM      ssp585  \n",
       "1120225                   0.0  NorESM2-MM      ssp585  \n",
       "\n",
       "[1120226 rows x 28 columns]"
      ]
     },
     "execution_count": 10,
     "metadata": {},
     "output_type": "execute_result"
    }
   ],
   "source": [
    "data_df"
   ]
  },
  {
   "cell_type": "code",
   "execution_count": 11,
   "id": "1ccbc6ee-b6ef-45ab-a896-6f4caa623d4e",
   "metadata": {},
   "outputs": [
    {
     "data": {
      "text/plain": [
       "{'ACCESS-CM2',\n",
       " 'ACCESS-ESM1-5',\n",
       " 'BCC-CSM2-MR',\n",
       " 'CanESM5',\n",
       " 'EC-Earth3',\n",
       " 'EC-Earth3-Veg',\n",
       " 'INM-CM4-8',\n",
       " 'INM-CM5-0',\n",
       " 'MPI-ESM1-2-HR',\n",
       " 'MPI-ESM1-2-LR',\n",
       " 'MRI-ESM2-0',\n",
       " 'NorESM2-LM',\n",
       " 'NorESM2-MM'}"
      ]
     },
     "execution_count": 11,
     "metadata": {},
     "output_type": "execute_result"
    }
   ],
   "source": [
    "set(data_df['model'])"
   ]
  },
  {
   "cell_type": "code",
   "execution_count": 12,
   "id": "7bb07ac5-590b-476c-ae92-c2036dcaddf6",
   "metadata": {},
   "outputs": [
    {
     "data": {
      "text/plain": [
       "{'historical', 'ssp245', 'ssp585'}"
      ]
     },
     "execution_count": 12,
     "metadata": {},
     "output_type": "execute_result"
    }
   ],
   "source": [
    "set(data_df['projection'])"
   ]
  },
  {
   "cell_type": "code",
   "execution_count": 13,
   "id": "ade194d1-e23f-4789-a93c-7810f239759c",
   "metadata": {},
   "outputs": [],
   "source": [
    "loc_list = []\n",
    "\n",
    "for k in roi_dict.keys():\n",
    "    loc_text = \"('{}', '{}')\".format(roi_dict[k]['Lon'], roi_dict[k]['Lat'])\n",
    "    loc_list.append(loc_text)"
   ]
  },
  {
   "cell_type": "code",
   "execution_count": 14,
   "id": "d554e81f-6a10-417c-be08-d1bdd910f724",
   "metadata": {},
   "outputs": [
    {
     "data": {
      "text/plain": [
       "25"
      ]
     },
     "execution_count": 14,
     "metadata": {},
     "output_type": "execute_result"
    }
   ],
   "source": [
    "len(loc_list)"
   ]
  },
  {
   "cell_type": "code",
   "execution_count": 15,
   "id": "d5d8e1ff-5b42-446a-b83b-667136855a6a",
   "metadata": {},
   "outputs": [],
   "source": [
    "roi_dict = {}\n",
    "points_list = []\n",
    "\n",
    "for id, lon, lat in zip(df['ID'], df['Longitude'], df['Latitude']):\n",
    "    point_dict = {}\n",
    "    \n",
    "    point_dict['Lon'] = lon\n",
    "    point_dict['Lat'] = lat\n",
    "    loc_text = \"('{}', '{}')\".format(lon, lat)\n",
    "\n",
    "    points_list.append(loc_text)\n",
    "    roi_dict[id] = point_dict"
   ]
  },
  {
   "cell_type": "code",
   "execution_count": 16,
   "id": "b6048368-6b85-496b-841b-19a3f42368c6",
   "metadata": {},
   "outputs": [
    {
     "data": {
      "text/plain": [
       "[\"('88.625', '26.625')\",\n",
       " \"('88.625', '26.875')\",\n",
       " \"('88.625', '27.125')\",\n",
       " \"('88.625', '27.375')\",\n",
       " \"('88.875', '26.125')\",\n",
       " \"('88.875', '26.375')\",\n",
       " \"('88.875', '26.625')\",\n",
       " \"('88.875', '26.875')\",\n",
       " \"('88.875', '27.125')\",\n",
       " \"('88.875', '27.375')\",\n",
       " \"('89.125', '25.875')\",\n",
       " \"('89.125', '26.125')\",\n",
       " \"('89.125', '26.375')\",\n",
       " \"('89.125', '26.625')\",\n",
       " \"('89.125', '26.875')\",\n",
       " \"('89.125', '27.125')\",\n",
       " \"('89.125', '27.375')\",\n",
       " \"('89.375', '25.875')\",\n",
       " \"('89.375', '26.125')\",\n",
       " \"('89.375', '26.375')\",\n",
       " \"('89.375', '26.625')\",\n",
       " \"('89.375', '26.875')\",\n",
       " \"('89.625', '25.875')\",\n",
       " \"('89.625', '26.125')\",\n",
       " \"('89.875', '25.875')\"]"
      ]
     },
     "execution_count": 16,
     "metadata": {},
     "output_type": "execute_result"
    }
   ],
   "source": [
    "points_list"
   ]
  },
  {
   "cell_type": "code",
   "execution_count": 17,
   "id": "afe0c1bd-84f1-4e17-ae6e-48b32acd3406",
   "metadata": {},
   "outputs": [],
   "source": [
    "col_list = list(data_df.columns)"
   ]
  },
  {
   "cell_type": "code",
   "execution_count": 52,
   "id": "c2657dab-dd7f-4898-9c40-796abbe8dd01",
   "metadata": {},
   "outputs": [
    {
     "data": {
      "text/plain": [
       "0          1.39\n",
       "1          0.00\n",
       "2          0.00\n",
       "3          0.00\n",
       "4          0.17\n",
       "           ... \n",
       "1120221    0.00\n",
       "1120222    0.00\n",
       "1120223    0.00\n",
       "1120224    0.00\n",
       "1120225    0.00\n",
       "Name: ('88.625', '26.625'), Length: 1120226, dtype: float64"
      ]
     },
     "execution_count": 52,
     "metadata": {},
     "output_type": "execute_result"
    }
   ],
   "source": [
    "data_df.iloc[:, 1]"
   ]
  },
  {
   "cell_type": "code",
   "execution_count": 61,
   "id": "d7c53739-e807-484e-874e-0ebba75afcc6",
   "metadata": {},
   "outputs": [
    {
     "data": {
      "text/plain": [
       "\"('88.625', '26.625')\""
      ]
     },
     "execution_count": 61,
     "metadata": {},
     "output_type": "execute_result"
    }
   ],
   "source": [
    "data_df.iloc[:, 1].name"
   ]
  },
  {
   "cell_type": "code",
   "execution_count": 68,
   "id": "0e2c855c-db53-4510-a3e6-c25bd7ad3b30",
   "metadata": {},
   "outputs": [
    {
     "data": {
      "text/plain": [
       "88.625"
      ]
     },
     "execution_count": 68,
     "metadata": {},
     "output_type": "execute_result"
    }
   ],
   "source": [
    "float(eval(data_df.iloc[:, 1].name)[0])"
   ]
  },
  {
   "cell_type": "code",
   "execution_count": 67,
   "id": "3623b6bd-7c77-45de-a4ea-d18061deb432",
   "metadata": {},
   "outputs": [
    {
     "data": {
      "text/plain": [
       "26.625"
      ]
     },
     "execution_count": 67,
     "metadata": {},
     "output_type": "execute_result"
    }
   ],
   "source": [
    "float(eval(data_df.iloc[:, 1].name)[1])"
   ]
  },
  {
   "cell_type": "code",
   "execution_count": 69,
   "id": "87c59288-3f68-41fa-a265-78042b681b75",
   "metadata": {},
   "outputs": [
    {
     "data": {
      "text/plain": [
       "1.39"
      ]
     },
     "execution_count": 69,
     "metadata": {},
     "output_type": "execute_result"
    }
   ],
   "source": [
    "data_df.iloc[:, 1][0]"
   ]
  },
  {
   "cell_type": "code",
   "execution_count": 51,
   "id": "f5aa6e5d-8853-4a87-8917-fe1d2d21838c",
   "metadata": {},
   "outputs": [
    {
     "data": {
      "text/plain": [
       "1120226"
      ]
     },
     "execution_count": 51,
     "metadata": {},
     "output_type": "execute_result"
    }
   ],
   "source": [
    "len(data_df.iloc[:, 1])"
   ]
  },
  {
   "cell_type": "code",
   "execution_count": 1,
   "id": "e7a2d376-45db-41e6-9925-e66b6d5d1322",
   "metadata": {},
   "outputs": [
    {
     "name": "stderr",
     "output_type": "stream",
     "text": [
      "C:\\Users\\mji.IWMDC0\\AppData\\Local\\Temp\\ipykernel_10752\\2899933739.py:1: DeprecationWarning: \n",
      "Pyarrow will become a required dependency of pandas in the next major release of pandas (pandas 3.0),\n",
      "(to allow more performant data types, such as the Arrow string type, and better interoperability with other libraries)\n",
      "but was not found to be installed on your system.\n",
      "If this would cause problems for you,\n",
      "please provide us feedback at https://github.com/pandas-dev/pandas/issues/54466\n",
      "        \n",
      "  import pandas as pd\n"
     ]
    }
   ],
   "source": [
    "import pandas as pd\n",
    "import numpy as np\n",
    "import os\n",
    "import glob\n",
    "\n",
    "data_df = pd.read_csv(r\"G:\\MJI\\SKZ\\Script\\From RAJ\\PrecipData.csv\")\n",
    "\n",
    "# Iterating through each scenario and creating scenario-specific dataframe\n",
    "for scenario in set(data_df['projection']):\n",
    "    try:\n",
    "        os.makedirs(f'Output/{scenario}')\n",
    "\n",
    "    except:\n",
    "        pass\n",
    "    \n",
    "    scenario_df = data_df[data_df['projection'] == scenario]\n",
    "\n",
    "    \n",
    "    # Iterating through each model and creating model-specific dataframe\n",
    "    for model in set(scenario_df['model']):\n",
    "        try:\n",
    "            os.makedirs(f'Output/{scenario}/{model}')\n",
    "\n",
    "        except:\n",
    "            pass\n",
    "        \n",
    "        model_df = scenario_df[scenario_df['model'] == model]\n",
    "        selected_model_df = model_df.iloc[:, :-2]\n",
    "\n",
    "        # Defining the grid points file and generating the input file\n",
    "        precip_file = open(f'Output/{scenario}/{model}/pcp.txt', 'a')\n",
    "        precip_file.write('ID,NAME,LAT,LONG,ELEVATION' + '\\n')\n",
    "\n",
    "        \n",
    "        # Iterating through each grid point and creating input file from each point\n",
    "        for i in range(1, selected_model_df.shape[1]):\n",
    "\n",
    "            file_name = open(f'Output/{scenario}/{model}/pcp{i}.txt', 'a')\n",
    "\n",
    "            point_series = selected_model_df.iloc[:, i]\n",
    "            \n",
    "            first_date = (selected_model_df.iloc[0,0]).replace('-', '')   ## yyyymmdd\n",
    "            file_name.write(first_date + '\\n')\n",
    "            \n",
    "            for r in range(0, len(point_series)):\n",
    "                file_name.write(str(point_series.iloc[r]) + '\\n')\n",
    "\n",
    "            # Updating the point location the grid file\n",
    "            LAT = float(eval(point_series.name)[1])\n",
    "            LONG = float(eval(point_series.name)[0])\n",
    "            NAME = f'pcp{i}'\n",
    "            \n",
    "            precip_file.write(f'{i},{NAME},{LAT},{LONG},0.00\\n')"
   ]
  },
  {
   "cell_type": "code",
   "execution_count": null,
   "id": "bc90686d-fb75-4078-98e7-6486cfe194c1",
   "metadata": {},
   "outputs": [],
   "source": []
  }
 ],
 "metadata": {
  "kernelspec": {
   "display_name": "Python 3 (ipykernel)",
   "language": "python",
   "name": "python3"
  },
  "language_info": {
   "codemirror_mode": {
    "name": "ipython",
    "version": 3
   },
   "file_extension": ".py",
   "mimetype": "text/x-python",
   "name": "python",
   "nbconvert_exporter": "python",
   "pygments_lexer": "ipython3",
   "version": "3.10.13"
  }
 },
 "nbformat": 4,
 "nbformat_minor": 5
}
