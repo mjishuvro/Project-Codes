{
 "cells": [
  {
   "cell_type": "markdown",
   "id": "59bdb51a",
   "metadata": {},
   "source": [
    "#  Creating Equidistant Calender Axis dfs0 file (30 mins)"
   ]
  },
  {
   "cell_type": "code",
   "execution_count": 1,
   "id": "50fc15be",
   "metadata": {},
   "outputs": [
    {
     "name": "stdout",
     "output_type": "stream",
     "text": [
      "SW115 (Daudkandi)_30min_TS\n",
      "SW14.5 (Nayarhat)_30min_TS\n",
      "SW177 (Lakhpur)_30min_TS\n",
      "SW190 (Mostafapur)_30min_TS\n",
      "SW193 (Kabirajpur)_30min_TS\n",
      "SW229 (Toke)_30min_TS\n",
      "SW233 (Ratnar bhanga(Piyan gang))_30min_TS\n",
      "SW248 (Dohazari)_30min_TS\n",
      "SW272.1 (Austogram)_30min_TS\n",
      "SW273 (Bhairab Bazar)_30min_TS\n",
      "SW274 (Narsingdi)_30min_TS\n",
      "SW295 (Ajabpur)_30min_TS\n",
      "SW297 (Gokarnaghat)_30min_TS\n",
      "SW298 (Nabinagar)_30min_TS\n",
      "SW298.5 (Salimganj)_30min_TS\n",
      "SW299 (Tongi)_30min_TS\n",
      "SW5 (Madaripur)_30min_TS\n",
      "SW69 (Savar)_30min_TS\n",
      "SW7 (Pubail)_30min_TS\n",
      "SW70 (Kalatia Outfall)_30min_TS\n",
      "SW72 (Khaliajuri)_30min_TS\n",
      "SW73 (Itna)_30min_TS\n",
      "SW74 (Dilalpur)_30min_TS\n",
      "SW9 (Kauraid)_30min_TS\n",
      "SW9.5 (Trimohini)_30min_TS\n"
     ]
    }
   ],
   "source": [
    "import pandas as pd\n",
    "import numpy as np\n",
    "import matplotlib.pyplot as plt\n",
    "import os\n",
    "import glob\n",
    "import mikeio\n",
    "from datetime import datetime, timedelta\n",
    "from calendar import monthrange\n",
    "from mikeio.eum import EUMType, EUMUnit, ItemInfo\n",
    "from mikecore.DfsFile import DataValueType\n",
    "from mikeio import dfs0\n",
    "\n",
    "# Output folder path (Just the folder path)\n",
    "output_folder_path = r'G:\\MJI\\SHWL_SLWL\\Updated Analysis\\BWDB _WL_Stations\\Tidal and Non-Tidal\\Output\\Tidal_Constituents'\n",
    "\n",
    "for file in glob.glob(r'G:\\MJI\\SHWL_SLWL\\Updated Analysis\\BWDB _WL_Stations\\Tidal and Non-Tidal\\Output\\30min_TS\\*.xlsx'):\n",
    "   \n",
    "    # Seperating the file_path to creating a list\n",
    "    path_list = file.split(os.sep)\n",
    "\n",
    "    # Reading the excel file\n",
    "    df = pd.read_excel(file)\n",
    "\n",
    "    # Output file path and name with extension\n",
    "    file_path = os.path.join(output_folder_path, '{}.dfs0'.format(path_list[-1][:-5]))\n",
    "\n",
    "    # Total number of timestep in to be generated for dfs0 file\n",
    "    total_time_step_count = len(df)\n",
    "\n",
    "    # Defining the start time of the timeseries\n",
    "    start_time = df['Date'].min()\n",
    "\n",
    "    # Generating equidistant timeseries (@30 minutes interval)\n",
    "    time = pd.date_range(start_time, freq='30T', periods = total_time_step_count)\n",
    "\n",
    "    # Converting Pandas series to numpy array\n",
    "    seires_np_array = df['Data for Analysis (mMSL)'].to_numpy()\n",
    "\n",
    "    # Defining item (water level) and unit based on type\n",
    "    item = ItemInfo('Data for Analysis (mMSL)' , EUMType.Water_Level, EUMUnit.meter, data_value_type=DataValueType.Instantaneous)\n",
    "\n",
    "    # creating the dataarray for the specified item\n",
    "    ts_dataarray = mikeio.DataArray(data= seires_np_array, time=time, item=item)\n",
    "\n",
    "    # Creating mikeio dataset from dataarray\n",
    "    ds = mikeio.Dataset([ts_dataarray])\n",
    "\n",
    "    # Importing '_write_dfs0' from mikeio 'dfs0' class and creating equidistant timeseries\n",
    "    dfs0._write_dfs0(filename =file_path,dataset= ds, title='{}'.format(path_list[-1][:-14]))\n",
    "    \n",
    "    print(path_list[-1][:-5])"
   ]
  },
  {
   "cell_type": "code",
   "execution_count": null,
   "id": "a1e19eaa",
   "metadata": {},
   "outputs": [],
   "source": []
  }
 ],
 "metadata": {
  "kernelspec": {
   "display_name": "Python 3 (ipykernel)",
   "language": "python",
   "name": "python3"
  },
  "language_info": {
   "codemirror_mode": {
    "name": "ipython",
    "version": 3
   },
   "file_extension": ".py",
   "mimetype": "text/x-python",
   "name": "python",
   "nbconvert_exporter": "python",
   "pygments_lexer": "ipython3",
   "version": "3.7.7"
  }
 },
 "nbformat": 4,
 "nbformat_minor": 5
}
