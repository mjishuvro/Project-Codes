{
 "cells": [
  {
   "cell_type": "code",
   "execution_count": 1,
   "id": "1520cc33",
   "metadata": {},
   "outputs": [],
   "source": [
    "import mikeio\n",
    "import pandas as pd\n",
    "import numpy as np\n",
    "import matplotlib.pyplot as plt\n",
    "import os\n",
    "import glob\n",
    "from datetime import datetime, timedelta\n",
    "from calendar import monthrange"
   ]
  },
  {
   "cell_type": "code",
   "execution_count": 2,
   "id": "655a0f6f",
   "metadata": {},
   "outputs": [],
   "source": [
    "df = pd.read_excel(r\"G:\\MJI\\BWDB_Tidal (104 nos.)\\Output\\Daily_Avg\\SW1 (Bagerhat)_Daily_Avg.xlsx\")"
   ]
  },
  {
   "cell_type": "code",
   "execution_count": 3,
   "id": "04ebd816",
   "metadata": {},
   "outputs": [
    {
     "data": {
      "text/html": [
       "<div>\n",
       "<style scoped>\n",
       "    .dataframe tbody tr th:only-of-type {\n",
       "        vertical-align: middle;\n",
       "    }\n",
       "\n",
       "    .dataframe tbody tr th {\n",
       "        vertical-align: top;\n",
       "    }\n",
       "\n",
       "    .dataframe thead th {\n",
       "        text-align: right;\n",
       "    }\n",
       "</style>\n",
       "<table border=\"1\" class=\"dataframe\">\n",
       "  <thead>\n",
       "    <tr style=\"text-align: right;\">\n",
       "      <th></th>\n",
       "      <th>Date</th>\n",
       "      <th>Water Level</th>\n",
       "      <th>Modified</th>\n",
       "      <th>Modified_Filled</th>\n",
       "      <th>Modified_Cyclone</th>\n",
       "    </tr>\n",
       "  </thead>\n",
       "  <tbody>\n",
       "    <tr>\n",
       "      <th>0</th>\n",
       "      <td>1996-01-01</td>\n",
       "      <td>0.585</td>\n",
       "      <td>0.309</td>\n",
       "      <td>0.309</td>\n",
       "      <td>0.309</td>\n",
       "    </tr>\n",
       "    <tr>\n",
       "      <th>1</th>\n",
       "      <td>1996-01-02</td>\n",
       "      <td>0.580</td>\n",
       "      <td>0.304</td>\n",
       "      <td>0.304</td>\n",
       "      <td>0.304</td>\n",
       "    </tr>\n",
       "    <tr>\n",
       "      <th>2</th>\n",
       "      <td>1996-01-03</td>\n",
       "      <td>0.610</td>\n",
       "      <td>0.334</td>\n",
       "      <td>0.334</td>\n",
       "      <td>0.334</td>\n",
       "    </tr>\n",
       "    <tr>\n",
       "      <th>3</th>\n",
       "      <td>1996-01-04</td>\n",
       "      <td>0.710</td>\n",
       "      <td>0.434</td>\n",
       "      <td>0.434</td>\n",
       "      <td>0.434</td>\n",
       "    </tr>\n",
       "    <tr>\n",
       "      <th>4</th>\n",
       "      <td>1996-01-05</td>\n",
       "      <td>0.490</td>\n",
       "      <td>0.214</td>\n",
       "      <td>0.214</td>\n",
       "      <td>0.214</td>\n",
       "    </tr>\n",
       "    <tr>\n",
       "      <th>...</th>\n",
       "      <td>...</td>\n",
       "      <td>...</td>\n",
       "      <td>...</td>\n",
       "      <td>...</td>\n",
       "      <td>...</td>\n",
       "    </tr>\n",
       "    <tr>\n",
       "      <th>9857</th>\n",
       "      <td>2022-12-27</td>\n",
       "      <td>0.770</td>\n",
       "      <td>0.494</td>\n",
       "      <td>0.494</td>\n",
       "      <td>0.494</td>\n",
       "    </tr>\n",
       "    <tr>\n",
       "      <th>9858</th>\n",
       "      <td>2022-12-28</td>\n",
       "      <td>0.680</td>\n",
       "      <td>0.404</td>\n",
       "      <td>0.404</td>\n",
       "      <td>0.404</td>\n",
       "    </tr>\n",
       "    <tr>\n",
       "      <th>9859</th>\n",
       "      <td>2022-12-29</td>\n",
       "      <td>0.655</td>\n",
       "      <td>0.379</td>\n",
       "      <td>0.379</td>\n",
       "      <td>0.379</td>\n",
       "    </tr>\n",
       "    <tr>\n",
       "      <th>9860</th>\n",
       "      <td>2022-12-30</td>\n",
       "      <td>0.635</td>\n",
       "      <td>0.359</td>\n",
       "      <td>0.359</td>\n",
       "      <td>0.359</td>\n",
       "    </tr>\n",
       "    <tr>\n",
       "      <th>9861</th>\n",
       "      <td>2022-12-31</td>\n",
       "      <td>0.585</td>\n",
       "      <td>0.309</td>\n",
       "      <td>0.309</td>\n",
       "      <td>0.309</td>\n",
       "    </tr>\n",
       "  </tbody>\n",
       "</table>\n",
       "<p>9862 rows × 5 columns</p>\n",
       "</div>"
      ],
      "text/plain": [
       "           Date  Water Level  Modified   Modified_Filled  Modified_Cyclone\n",
       "0    1996-01-01        0.585      0.309            0.309             0.309\n",
       "1    1996-01-02        0.580      0.304            0.304             0.304\n",
       "2    1996-01-03        0.610      0.334            0.334             0.334\n",
       "3    1996-01-04        0.710      0.434            0.434             0.434\n",
       "4    1996-01-05        0.490      0.214            0.214             0.214\n",
       "...         ...          ...        ...              ...               ...\n",
       "9857 2022-12-27        0.770      0.494            0.494             0.494\n",
       "9858 2022-12-28        0.680      0.404            0.404             0.404\n",
       "9859 2022-12-29        0.655      0.379            0.379             0.379\n",
       "9860 2022-12-30        0.635      0.359            0.359             0.359\n",
       "9861 2022-12-31        0.585      0.309            0.309             0.309\n",
       "\n",
       "[9862 rows x 5 columns]"
      ]
     },
     "execution_count": 3,
     "metadata": {},
     "output_type": "execute_result"
    }
   ],
   "source": [
    "df"
   ]
  },
  {
   "cell_type": "code",
   "execution_count": 5,
   "id": "15300c72",
   "metadata": {},
   "outputs": [
    {
     "data": {
      "text/plain": [
       "0.5739571790969051"
      ]
     },
     "execution_count": 5,
     "metadata": {},
     "output_type": "execute_result"
    }
   ],
   "source": [
    "df['Modified_Cyclone'].mean()"
   ]
  },
  {
   "cell_type": "code",
   "execution_count": 6,
   "id": "8182b483",
   "metadata": {},
   "outputs": [
    {
     "data": {
      "text/plain": [
       "15"
      ]
     },
     "execution_count": 6,
     "metadata": {},
     "output_type": "execute_result"
    }
   ],
   "source": [
    "len('_Daily_Avg.xlsx')"
   ]
  },
  {
   "cell_type": "markdown",
   "id": "95c78806",
   "metadata": {},
   "source": [
    "# BWDB Tidal WL Station Mean WL"
   ]
  },
  {
   "cell_type": "code",
   "execution_count": 10,
   "id": "aed44239",
   "metadata": {},
   "outputs": [],
   "source": [
    "import mikeio\n",
    "import pandas as pd\n",
    "import numpy as np\n",
    "import matplotlib.pyplot as plt\n",
    "import os\n",
    "import glob\n",
    "from datetime import datetime, timedelta\n",
    "from calendar import monthrange\n",
    "\n",
    "mean_wl_df = pd.DataFrame()\n",
    "\n",
    "for file in glob.glob(r\"G:\\MJI\\BWDB_Tidal (104 nos.)\\Output\\Daily_Avg\\*.xlsx\"):\n",
    "    \n",
    "    path_list = file.split(os.sep)\n",
    "    \n",
    "    df = pd.read_excel(file)\n",
    "    \n",
    "    m_wl = df['Modified_Cyclone'].mean()\n",
    "    \n",
    "    sm_df = pd.DataFrame({'Station_ID': [path_list[-1][:-15]], 'Mean WL (mMSL)': [m_wl]})\n",
    "    \n",
    "    mean_wl_df = pd.concat([mean_wl_df, sm_df])"
   ]
  },
  {
   "cell_type": "code",
   "execution_count": 11,
   "id": "09f8119d",
   "metadata": {},
   "outputs": [
    {
     "data": {
      "text/html": [
       "<div>\n",
       "<style scoped>\n",
       "    .dataframe tbody tr th:only-of-type {\n",
       "        vertical-align: middle;\n",
       "    }\n",
       "\n",
       "    .dataframe tbody tr th {\n",
       "        vertical-align: top;\n",
       "    }\n",
       "\n",
       "    .dataframe thead th {\n",
       "        text-align: right;\n",
       "    }\n",
       "</style>\n",
       "<table border=\"1\" class=\"dataframe\">\n",
       "  <thead>\n",
       "    <tr style=\"text-align: right;\">\n",
       "      <th></th>\n",
       "      <th>Station_ID</th>\n",
       "      <th>Mean WL (mMSL)</th>\n",
       "    </tr>\n",
       "  </thead>\n",
       "  <tbody>\n",
       "    <tr>\n",
       "      <th>0</th>\n",
       "      <td>SW1 (Bagerhat)</td>\n",
       "      <td>0.573957</td>\n",
       "    </tr>\n",
       "    <tr>\n",
       "      <th>0</th>\n",
       "      <td>SW102 (Bhatiapara)</td>\n",
       "      <td>1.623192</td>\n",
       "    </tr>\n",
       "    <tr>\n",
       "      <th>0</th>\n",
       "      <td>SW105 (Off Take at Atharobanka)</td>\n",
       "      <td>0.650905</td>\n",
       "    </tr>\n",
       "    <tr>\n",
       "      <th>0</th>\n",
       "      <td>SW107 (Pirojpur)</td>\n",
       "      <td>0.079548</td>\n",
       "    </tr>\n",
       "    <tr>\n",
       "      <th>0</th>\n",
       "      <td>SW107A (Nazirpur)</td>\n",
       "      <td>0.665317</td>\n",
       "    </tr>\n",
       "    <tr>\n",
       "      <th>...</th>\n",
       "      <td>...</td>\n",
       "      <td>...</td>\n",
       "    </tr>\n",
       "    <tr>\n",
       "      <th>0</th>\n",
       "      <td>SW9 (Kaoraid)</td>\n",
       "      <td>3.128236</td>\n",
       "    </tr>\n",
       "    <tr>\n",
       "      <th>0</th>\n",
       "      <td>SW93.4L ((Bhagyakul)</td>\n",
       "      <td>2.849112</td>\n",
       "    </tr>\n",
       "    <tr>\n",
       "      <th>0</th>\n",
       "      <td>SW93.5L (Mawa)</td>\n",
       "      <td>2.599475</td>\n",
       "    </tr>\n",
       "    <tr>\n",
       "      <th>0</th>\n",
       "      <td>SW94 (Tarpasa)</td>\n",
       "      <td>2.412007</td>\n",
       "    </tr>\n",
       "    <tr>\n",
       "      <th>0</th>\n",
       "      <td>SW95 (Sureswar)</td>\n",
       "      <td>1.420569</td>\n",
       "    </tr>\n",
       "  </tbody>\n",
       "</table>\n",
       "<p>104 rows × 2 columns</p>\n",
       "</div>"
      ],
      "text/plain": [
       "                         Station_ID  Mean WL (mMSL)\n",
       "0                    SW1 (Bagerhat)        0.573957\n",
       "0                SW102 (Bhatiapara)        1.623192\n",
       "0   SW105 (Off Take at Atharobanka)        0.650905\n",
       "0                  SW107 (Pirojpur)        0.079548\n",
       "0                 SW107A (Nazirpur)        0.665317\n",
       "..                              ...             ...\n",
       "0                     SW9 (Kaoraid)        3.128236\n",
       "0              SW93.4L ((Bhagyakul)        2.849112\n",
       "0                    SW93.5L (Mawa)        2.599475\n",
       "0                    SW94 (Tarpasa)        2.412007\n",
       "0                   SW95 (Sureswar)        1.420569\n",
       "\n",
       "[104 rows x 2 columns]"
      ]
     },
     "execution_count": 11,
     "metadata": {},
     "output_type": "execute_result"
    }
   ],
   "source": [
    "mean_wl_df"
   ]
  },
  {
   "cell_type": "code",
   "execution_count": 14,
   "id": "7d640b48",
   "metadata": {},
   "outputs": [],
   "source": [
    "mean_wl_df.to_excel(r'G:\\MJI\\BWDB_Tidal (104 nos.)\\Output\\BWDB_Stations_Mean_WL_from_Daily_Avg.xlsx', \n",
    "                    float_format=\"%.3f\", index= False)"
   ]
  },
  {
   "cell_type": "markdown",
   "id": "89db2c7a",
   "metadata": {},
   "source": [
    "# BIWTA Tidal WL Station Mean WL"
   ]
  },
  {
   "cell_type": "code",
   "execution_count": 16,
   "id": "77d87a7e",
   "metadata": {},
   "outputs": [],
   "source": [
    "import mikeio\n",
    "import pandas as pd\n",
    "import numpy as np\n",
    "import matplotlib.pyplot as plt\n",
    "import os\n",
    "import glob\n",
    "from datetime import datetime, timedelta\n",
    "from calendar import monthrange\n",
    "\n",
    "mean_wl_df = pd.DataFrame()\n",
    "\n",
    "for file in glob.glob(r\"G:\\MJI\\BIWTA_Tidal (40 nos.)\\Output\\Daily_Avg\\*.xlsx\"):\n",
    "    \n",
    "    path_list = file.split(os.sep)\n",
    "    \n",
    "    df = pd.read_excel(file)\n",
    "    \n",
    "    m_wl = df['Modified_Cyclone'].mean()\n",
    "    \n",
    "    sm_df = pd.DataFrame({'Station_ID': [path_list[-1][:-15]], 'Mean WL (mMSL)': [m_wl]})\n",
    "    \n",
    "    mean_wl_df = pd.concat([mean_wl_df, sm_df])\n",
    "\n",
    "    \n",
    "mean_wl_df.to_excel(r'G:\\MJI\\BIWTA_Tidal (40 nos.)\\Output\\BIWTA_Stations_Mean_WL_from_Daily_Avg.xlsx', \n",
    "                    float_format=\"%.3f\", index= False)"
   ]
  },
  {
   "cell_type": "code",
   "execution_count": null,
   "id": "71c6be1b",
   "metadata": {},
   "outputs": [],
   "source": []
  }
 ],
 "metadata": {
  "kernelspec": {
   "display_name": "Python 3 (ipykernel)",
   "language": "python",
   "name": "python3"
  },
  "language_info": {
   "codemirror_mode": {
    "name": "ipython",
    "version": 3
   },
   "file_extension": ".py",
   "mimetype": "text/x-python",
   "name": "python",
   "nbconvert_exporter": "python",
   "pygments_lexer": "ipython3",
   "version": "3.7.7"
  }
 },
 "nbformat": 4,
 "nbformat_minor": 5
}
