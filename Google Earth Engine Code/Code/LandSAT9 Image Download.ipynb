{
 "cells": [
  {
   "cell_type": "markdown",
   "id": "17b3f168-bd51-4fd4-8e89-92cabc3e9ae1",
   "metadata": {},
   "source": [
    "## LandSAT9 Image (Dataset Availability: 2021-10-31 to Present)\n",
    "### [LandSAT9 Earth Engine Documentation](https://developers.google.com/earth-engine/datasets/catalog/LANDSAT_LC09_C02_T1_L2)"
   ]
  },
  {
   "cell_type": "code",
   "execution_count": 1,
   "id": "18d8967d",
   "metadata": {},
   "outputs": [],
   "source": [
    "# Importing the earth engine library and geemap package\n",
    "import ee\n",
    "import geemap"
   ]
  },
  {
   "cell_type": "code",
   "execution_count": 2,
   "id": "5985016b",
   "metadata": {},
   "outputs": [
    {
     "data": {
      "application/vnd.jupyter.widget-view+json": {
       "model_id": "53fccf9b39544d46b9db5dd8e1c6c5b6",
       "version_major": 2,
       "version_minor": 0
      },
      "text/plain": [
       "Map(center=[24, 91], controls=(WidgetControl(options=['position', 'transparent_bg'], widget=HBox(children=(Tog…"
      ]
     },
     "execution_count": 2,
     "metadata": {},
     "output_type": "execute_result"
    }
   ],
   "source": [
    "# Adding an interactive map.\n",
    "Map = geemap.Map(basemap='ROADMAP', center=[24, 91], zoom=7, height=600, draw = True)\n",
    "\n",
    "# Adding the TERRAIN basemaps.\n",
    "Map.add_basemap(\"TERRAIN\")\n",
    "Map"
   ]
  },
  {
   "cell_type": "code",
   "execution_count": 7,
   "id": "9afc9d24",
   "metadata": {},
   "outputs": [],
   "source": [
    "# Taking a draw feature from the map.\n",
    "feature = Map.draw_last_feature\n",
    "\n",
    "# If drawing does not exist then taking a polygon as the default version.\n",
    "if feature is None:\n",
    "    geom = ee.Geometry.Polygon([[[91.78481923595828, 21.95584672623341],\n",
    "                                 [91.78481923595828, 21.700881280747268],\n",
    "                                 [91.93176137463016, 21.700881280747268],\n",
    "                                 [91.93176137463016, 21.95584672623341]]])\n",
    "    feature = ee.Feature(geom, {})\n",
    "\n",
    "# Define the AOI.\n",
    "AOI = feature.geometry()"
   ]
  },
  {
   "cell_type": "code",
   "execution_count": 8,
   "id": "4d135f06",
   "metadata": {},
   "outputs": [
    {
     "name": "stdout",
     "output_type": "stream",
     "text": [
      "Number of landsat images in AOI:  15\n"
     ]
    }
   ],
   "source": [
    "# Use Landsat 8 surface reflectance data.\n",
    "Landsat_image_collection = (ee.ImageCollection('LANDSAT/LC08/C02/T1_L2')\n",
    "            # filtering image collection by AOI\n",
    "            .filterBounds(AOI)\n",
    "            # filtering image collection by Dates\n",
    "            .filterDate('2023-01-01', '2023-12-31')\n",
    "            # filtering image collection by Metadata (Metadata: Cloud cover)\n",
    "           .filter(ee.Filter.lt('CLOUD_COVER',50))\n",
    "           .sort('CLOUD_COVER',False))\n",
    "\n",
    "print ('Number of landsat images in AOI: ', Landsat_image_collection.size().getInfo())"
   ]
  },
  {
   "cell_type": "code",
   "execution_count": 9,
   "id": "f17249bc",
   "metadata": {},
   "outputs": [],
   "source": [
    "# Apply scaling factors.\n",
    "def apply_scale_factors(image):\n",
    "    opticalBands = image.select('SR_B.').multiply(0.0000275).add(-0.2)\n",
    "    thermalBands = image.select('ST_B.*').multiply(0.00341802).add(149.0)\n",
    "    return image.addBands(opticalBands, None, True).addBands(thermalBands, None, True)"
   ]
  },
  {
   "cell_type": "code",
   "execution_count": 10,
   "id": "e5f968f9",
   "metadata": {},
   "outputs": [],
   "source": [
    "# Function for cloud masking\n",
    "def fmask(image):\n",
    "    # QA_PIXEL = Pixel quality attributes generated from the CFMASK algorithm.\n",
    "    # Bit 0 - Fill\n",
    "    # Bit 1 - Dilated Cloud\n",
    "    # Bit 2 - Cirrus\n",
    "    # Bit 3 - Cloud\n",
    "    # Bit 4 - Cloud Shadow\n",
    "    qaMask = image.select('QA_PIXEL').bitwiseAnd(int('11111', 2)).eq(0)\n",
    "\n",
    "    # Apply the scaling factors to the appropriate bands.\n",
    "    opticalBands = image.select('SR_B.').multiply(0.0000275).add(-0.2)\n",
    "    thermalBands = image.select('ST_B.*').multiply(0.00341802).add(149.0)\n",
    "\n",
    "    # Replace the original bands with the scaled ones and apply the masks.\n",
    "    return image.addBands(opticalBands, None, True).addBands(thermalBands, None, True).updateMask(qaMask)"
   ]
  },
  {
   "cell_type": "code",
   "execution_count": 11,
   "id": "2c5ca2ba",
   "metadata": {},
   "outputs": [
    {
     "data": {
      "application/vnd.jupyter.widget-view+json": {
       "model_id": "ec5703a5e1a940a7aa3ca6503d5e79ec",
       "version_major": 2,
       "version_minor": 0
      },
      "text/plain": [
       "Map(center=[21.669906279022868, 91.58967219643264], controls=(ZoomControl(options=['position', 'zoom_in_text',…"
      ]
     },
     "execution_count": 11,
     "metadata": {},
     "output_type": "execute_result"
    }
   ],
   "source": [
    "# Applying scale factor \n",
    "with_cloud_image = Landsat_image_collection.map(apply_scale_factors)\n",
    "\n",
    "# Cloud Masked Image\n",
    "cloud_masked_image = Landsat_image_collection.map(fmask)\n",
    "\n",
    "# Specify visualization parameters.\n",
    "vis_natural = {\n",
    "    'bands': ['SR_B4', 'SR_B3', 'SR_B2'],\n",
    "    'min': 0.0,\n",
    "    'max': 0.3,\n",
    "}\n",
    "\n",
    "vis_nir = {\n",
    "    'bands': ['SR_B5', 'SR_B4', 'SR_B3'],\n",
    "    'min': 0.0,\n",
    "    'max': 0.3,\n",
    "}\n",
    "\n",
    "# Generate Earth Engine layers.\n",
    "left_layer = geemap.ee_tile_layer(with_cloud_image.first(), vis_natural,  'With_Cloud')\n",
    "right_layer = geemap.ee_tile_layer(cloud_masked_image.first(), vis_nir, 'Without_Cloud')\n",
    "\n",
    "# Create a split-panel map.\n",
    "Map_L9 = geemap.Map(height=500)\n",
    "Map_L9.split_map(left_layer, right_layer)\n",
    "Map_L9.centerObject(cloud_masked_image, 9)\n",
    "Map_L9"
   ]
  },
  {
   "cell_type": "code",
   "execution_count": 12,
   "id": "cefe70c9",
   "metadata": {},
   "outputs": [
    {
     "data": {
      "application/vnd.jupyter.widget-view+json": {
       "model_id": "a26c13f715b645f6952a23169211ba88",
       "version_major": 2,
       "version_minor": 0
      },
      "text/plain": [
       "Map(center=[21.82834239157615, 91.85829030529537], controls=(WidgetControl(options=['position', 'transparent_b…"
      ]
     },
     "execution_count": 12,
     "metadata": {},
     "output_type": "execute_result"
    }
   ],
   "source": [
    "# Getting all image collection for AOI and calculate median and clip the final image.\n",
    "median_image = cloud_masked_image.median().clip(AOI)\n",
    "\n",
    "\n",
    "# Specify visualization parameters.\n",
    "vis_natural = {\n",
    "    'bands': ['SR_B7', 'SR_B6', 'SR_B4'],\n",
    "    'min': 0.0,\n",
    "    'max': 0.3,\n",
    "}\n",
    "\n",
    "# Adding image to the map.\n",
    "Map_all = geemap.Map(height=500)\n",
    "Map_all.addLayer(median_image, vis_natural, 'Landsat-9 composite')\n",
    "Map_all.centerObject(median_image, 11)\n",
    "Map_all"
   ]
  },
  {
   "cell_type": "code",
   "execution_count": 13,
   "id": "52415226",
   "metadata": {},
   "outputs": [],
   "source": [
    "task = ee.batch.Export.image.toDrive(\n",
    "            image = median_image.select([\"SR_B7\",\"SR_B6\",\"SR_B4\"]),\n",
    "            description = 'LandSAT9_Median_2023',\n",
    "            folder = 'LandSAT_Image',\n",
    "            scale = 30)\n",
    "task.start()"
   ]
  },
  {
   "cell_type": "code",
   "execution_count": null,
   "id": "5b8c2558",
   "metadata": {},
   "outputs": [],
   "source": []
  }
 ],
 "metadata": {
  "kernelspec": {
   "display_name": "Python 3 (ipykernel)",
   "language": "python",
   "name": "python3"
  },
  "language_info": {
   "codemirror_mode": {
    "name": "ipython",
    "version": 3
   },
   "file_extension": ".py",
   "mimetype": "text/x-python",
   "name": "python",
   "nbconvert_exporter": "python",
   "pygments_lexer": "ipython3",
   "version": "3.10.11"
  }
 },
 "nbformat": 4,
 "nbformat_minor": 5
}
