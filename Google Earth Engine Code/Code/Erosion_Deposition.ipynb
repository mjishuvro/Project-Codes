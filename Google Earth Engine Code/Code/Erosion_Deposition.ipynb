{
 "cells": [
  {
   "cell_type": "code",
   "execution_count": null,
   "id": "c66f542c",
   "metadata": {},
   "outputs": [],
   "source": [
    "# If you are using desktop version of geemap, skip this cell\n",
    "# if you are using google colab code editor, uncomment the last two line of this cell and run it\n",
    "# Capture is used for suppressing the output.\n",
    "# %%capture\n",
    "# %pip install geemap"
   ]
  },
  {
   "cell_type": "code",
   "execution_count": 1,
   "id": "2b140b43",
   "metadata": {},
   "outputs": [
    {
     "data": {
      "text/html": [
       "<p>To authorize access needed by Earth Engine, open the following\n",
       "        URL in a web browser and follow the instructions:</p>\n",
       "        <p><a href=https://code.earthengine.google.com/client-auth?scopes=https%3A//www.googleapis.com/auth/earthengine%20https%3A//www.googleapis.com/auth/devstorage.full_control&request_id=ZgeBTTH-rVCAU2SYt1rzNielKzfbw6nBpZip5AATo08&tc=AccxmQOR5H7EH6VwDQp0xAtr7T_do6ctIaul5UFIEv8&cc=SxJa7uAPbjWWXa_cR8pGVKJGjItgZVFgEXJyOUqcnd0>https://code.earthengine.google.com/client-auth?scopes=https%3A//www.googleapis.com/auth/earthengine%20https%3A//www.googleapis.com/auth/devstorage.full_control&request_id=ZgeBTTH-rVCAU2SYt1rzNielKzfbw6nBpZip5AATo08&tc=AccxmQOR5H7EH6VwDQp0xAtr7T_do6ctIaul5UFIEv8&cc=SxJa7uAPbjWWXa_cR8pGVKJGjItgZVFgEXJyOUqcnd0</a></p>\n",
       "        <p>The authorization workflow will generate a code, which you should paste in the box below.</p>\n",
       "        "
      ],
      "text/plain": [
       "<IPython.core.display.HTML object>"
      ]
     },
     "metadata": {},
     "output_type": "display_data"
    },
    {
     "name": "stdout",
     "output_type": "stream",
     "text": [
      "Enter verification code: 4/1AZEOvhVS8nGVT-DhU2k3psIjzWnboZeYSfQQXn8M2f7UsE2E6asmLxY2LEc\n",
      "\n",
      "Successfully saved authorization token.\n"
     ]
    }
   ],
   "source": [
    "import ee\n",
    "import os\n",
    "import geemap\n",
    "import ipywidgets as widgets\n",
    "import ipyleaflet\n",
    "\n",
    "ee.Authenticate()\n",
    "ee.Initialize()\n",
    "\n",
    "#geemap.update_package()\n",
    "Map=geemap.Map()"
   ]
  },
  {
   "cell_type": "code",
   "execution_count": 7,
   "id": "ea512669",
   "metadata": {},
   "outputs": [],
   "source": [
    "# Creating year and month slider widget using ipywidgets library\n",
    "style = {'description_width': 'initial'}\n",
    "\n",
    "year_slider = widgets.IntRangeSlider(value=[1988, 2020], min=1988 , max=2020,\n",
    "    step=1,\n",
    "    description='Year',\n",
    "    disabled=False,\n",
    "    continuous_update=False,\n",
    "    orientation='horizontal',\n",
    "    readout=True,\n",
    "    readout_format='d',\n",
    ")\n",
    "\n",
    "month_slider = widgets.IntRangeSlider(value=[1, 12], min=1 , max=12,\n",
    "    step=1,\n",
    "    description='Month',\n",
    "    disabled=False,\n",
    "    continuous_update=False,\n",
    "    orientation='horizontal',\n",
    "    readout=True,\n",
    "    readout_format='d',\n",
    ")\n",
    "\n",
    "button = widgets.Button(\n",
    "    description='Update',\n",
    "    button_style='danger',  # 'success', 'info', 'warning', 'danger' or ''\n",
    "    tooltip='Click to Update',\n",
    "#     icon='check',  # (FontAwesome names without the `fa-` prefix)\n",
    ")\n",
    "\n",
    "\n",
    "# hbox3 = widgets.HBox([year_slider, month_slider,button])\n",
    "# hbox3"
   ]
  },
  {
   "cell_type": "code",
   "execution_count": 8,
   "id": "8d48006e",
   "metadata": {},
   "outputs": [],
   "source": [
    "JRC_yearly=ee.ImageCollection(\"JRC/GSW1_4/YearlyHistory\")\n",
    "JRC_monthly=ee.ImageCollection(\"JRC/GSW1_4/MonthlyHistory\")\n",
    "JRC_water=ee.Image(\"JRC/GSW1_4/GlobalSurfaceWater\")\n",
    "\n",
    "start_year = year_slider.value[0]\n",
    "end_year = year_slider.value[1]\n",
    "start_month = month_slider.value[0]\n",
    "end_month = month_slider.value[1]\n",
    "\n",
    "do_export = False\n",
    "\n",
    "visParams_monthly = {'min':0, 'max':2, 'palette':['grey','white','green']}\n",
    "visParams_trans = {'min':-2, 'max':2, 'palette':['orange','white','blue']}\n",
    "\n",
    "# filter dates\n",
    "JRC_monthly = JRC_monthly.filter(ee.Filter.gte('year', start_year)).filter(ee.Filter.lte('year', end_year)).filter(ee.Filter.gte('month', start_month)).filter(ee.Filter.lte('month', end_month))\n",
    "            \n",
    "JRC_yearly = JRC_yearly.filter(ee.Filter.gte('year', start_year)).filter(ee.Filter.lte('year', end_year))\n",
    "\n",
    "# remove zeros?\n",
    "\n",
    "def func_exf(img):\n",
    "    return img.updateMask(img)\n",
    "\n",
    "JRC_monthly = JRC_monthly.map(func_exf)\n",
    "\n",
    "# https://developers.google.com/earth-engine/guides/image_visualization#colab-python_1\n",
    "\n",
    "first_month = JRC_monthly.filter(ee.Filter.eq('year', start_year)).mode()\n",
    "last_month = JRC_monthly.filter(ee.Filter.eq('year', end_year)).mode()\n",
    "\n",
    "first_month_calc = first_month.unmask(0)\n",
    "last_month_calc = last_month.unmask(0)\n",
    "\n",
    "\n",
    "first_month = first_month.updateMask(first_month.neq(1))\n",
    "last_month = last_month.updateMask(last_month.neq(1))\n",
    "#Map.add_ee_layer(first_month, visParams_monthly, 'first month (mode)')\n",
    "#Map.add_ee_layer(last_month, visParams_monthly, 'last month (mode)')\n",
    "\n",
    "first_month_calc = first_month_calc.remap([0,1,2], [0,1,3])\n",
    "last_month_calc = last_month_calc.remap([0,1,2], [0,1,3])\n",
    "transition = last_month_calc.subtract(first_month_calc)\n",
    "transition = transition.updateMask(transition.neq(0))\n",
    "\n",
    "Map.add_ee_layer(transition, {min:-3, max:3}, 'transition')\n",
    "Map.add_ee_layer(transition, visParams_trans, 'transition')\n",
    "\n",
    "erosion  = transition.eq(2)\n",
    "sediment = transition.eq(-2)\n",
    "thesame  = transition.eq(0)\n",
    "no_data  = transition.eq(-3).Or(transition.eq(-1)).Or(transition.eq(1)).Or(transition.eq(3))\n",
    "\n",
    "#Map.addLayer(JRC_water, {'bands':'occurrence', 'min':0, 'max':100, 'palette':['white','blue']}, 'JRC water (occ)')\n",
    "#Map.addLayer(JRC_monthly, visParams_monthly, 'JRC water (monthly)')\n",
    "#Map.addLayer(JRC_water.select('transition'), {}, 'JRC water (trans)')\n",
    "\n",
    "year_control = ipyleaflet.WidgetControl(widget=year_slider, position ='bottomright')\n",
    "# month_control = ipyleaflet.WidgetControl(widget=month_slider, position ='bottomright')\n",
    "button_control = ipyleaflet.WidgetControl(widget=button, position ='bottomright')\n",
    "\n",
    "Map.add_control(year_control)\n",
    "# Map.add_control(month_control)\n",
    "Map.add_control(button_control)"
   ]
  },
  {
   "cell_type": "code",
   "execution_count": 9,
   "id": "2c378ff6",
   "metadata": {},
   "outputs": [
    {
     "data": {
      "application/vnd.jupyter.widget-view+json": {
       "model_id": "114c31e2ebb744d8a1462b415a12f72c",
       "version_major": 2,
       "version_minor": 0
      },
      "text/plain": [
       "Map(center=[20, 0], controls=(WidgetControl(options=['position', 'transparent_bg'], widget=HBox(children=(Togg…"
      ]
     },
     "metadata": {},
     "output_type": "display_data"
    }
   ],
   "source": [
    "# Defining a function to calculate erosion-deposition on 'Updated' widget button click \n",
    "def update(b):\n",
    "    \n",
    "    JRC_yearly=ee.ImageCollection(\"JRC/GSW1_4/YearlyHistory\")\n",
    "    JRC_monthly=ee.ImageCollection(\"JRC/GSW1_4/MonthlyHistory\")\n",
    "    JRC_water=ee.Image(\"JRC/GSW1_4/GlobalSurfaceWater\")\n",
    "\n",
    "    start_year = year_slider.value[0]\n",
    "    end_year = year_slider.value[1]\n",
    "    start_month = month_slider.value[0]\n",
    "    end_month = month_slider.value[1]\n",
    "\n",
    "    do_export = False\n",
    "\n",
    "    visParams_monthly = {'min':0, 'max':2, 'palette':['grey','white','green']}\n",
    "    visParams_trans = {'min':-2, 'max':2, 'palette':['orange','white','blue']}\n",
    "\n",
    "    # filter dates\n",
    "    JRC_monthly = JRC_monthly.filter(ee.Filter.gte('year', start_year)).filter(ee.Filter.lte('year', end_year)).filter(ee.Filter.gte('month', start_month)).filter(ee.Filter.lte('month', end_month))\n",
    "\n",
    "    JRC_yearly = JRC_yearly.filter(ee.Filter.gte('year', start_year)).filter(ee.Filter.lte('year', end_year))\n",
    "\n",
    "    # remove zeros?\n",
    "\n",
    "    def func_exf(img):\n",
    "        return img.updateMask(img)\n",
    "\n",
    "    JRC_monthly = JRC_monthly.map(func_exf)\n",
    "\n",
    "    # https://developers.google.com/earth-engine/guides/image_visualization#colab-python_1\n",
    "\n",
    "    first_month = JRC_monthly.filter(ee.Filter.eq('year', start_year)).mode()\n",
    "    last_month = JRC_monthly.filter(ee.Filter.eq('year', end_year)).mode()\n",
    "\n",
    "    first_month_calc = first_month.unmask(0)\n",
    "    last_month_calc = last_month.unmask(0)\n",
    "\n",
    "\n",
    "    first_month = first_month.updateMask(first_month.neq(1))\n",
    "    last_month = last_month.updateMask(last_month.neq(1))\n",
    "    #Map.add_ee_layer(first_month, visParams_monthly, 'first month (mode)')\n",
    "    #Map.add_ee_layer(last_month, visParams_monthly, 'last month (mode)')\n",
    "\n",
    "    first_month_calc = first_month_calc.remap([0,1,2], [0,1,3])\n",
    "    last_month_calc = last_month_calc.remap([0,1,2], [0,1,3])\n",
    "    transition = last_month_calc.subtract(first_month_calc)\n",
    "    transition = transition.updateMask(transition.neq(0))\n",
    "\n",
    "    Map.add_ee_layer(transition, {min:-3, max:3}, 'transition')\n",
    "    Map.add_ee_layer(transition, visParams_trans, 'transition')\n",
    "\n",
    "    erosion  = transition.eq(2)\n",
    "    sediment = transition.eq(-2)\n",
    "    thesame  = transition.eq(0)\n",
    "    no_data  = transition.eq(-3).Or(transition.eq(-1)).Or(transition.eq(1)).Or(transition.eq(3))\n",
    "\n",
    "# Calling the update defined 'update' function to updated the interactive map based on user input on the slider\n",
    "button.on_click(update)\n",
    "\n",
    "# Visualizing the updated intermap\n",
    "Map"
   ]
  },
  {
   "cell_type": "code",
   "execution_count": null,
   "id": "8c33d6c0",
   "metadata": {},
   "outputs": [],
   "source": []
  }
 ],
 "metadata": {
  "kernelspec": {
   "display_name": "Python 3 (ipykernel)",
   "language": "python",
   "name": "python3"
  },
  "language_info": {
   "codemirror_mode": {
    "name": "ipython",
    "version": 3
   },
   "file_extension": ".py",
   "mimetype": "text/x-python",
   "name": "python",
   "nbconvert_exporter": "python",
   "pygments_lexer": "ipython3",
   "version": "3.10.6"
  }
 },
 "nbformat": 4,
 "nbformat_minor": 5
}
