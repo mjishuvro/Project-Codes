{
 "cells": [
  {
   "cell_type": "markdown",
   "id": "481f43ce-9464-42f3-99f1-79f623b40a46",
   "metadata": {},
   "source": [
    "## LandSAT5 Image (Dataset Availability: 1984-03-16 to 2012-05-05)\n",
    "### [LandSAT5 Earth Engine Documentation](https://developers.google.com/earth-engine/datasets/catalog/LANDSAT_LT05_C02_T1_L2)"
   ]
  },
  {
   "cell_type": "code",
   "execution_count": null,
   "id": "0f59a53c-907b-4660-9646-c24aae0a98f3",
   "metadata": {},
   "outputs": [],
   "source": [
    "# Importing the earth engine library and geemap package\n",
    "import ee\n",
    "import geemap"
   ]
  },
  {
   "cell_type": "code",
   "execution_count": 9,
   "id": "5985016b",
   "metadata": {},
   "outputs": [
    {
     "data": {
      "application/vnd.jupyter.widget-view+json": {
       "model_id": "63d589e270484f71ab6cba6bb9486043",
       "version_major": 2,
       "version_minor": 0
      },
      "text/plain": [
       "Map(center=[24, 91], controls=(WidgetControl(options=['position', 'transparent_bg'], widget=HBox(children=(Tog…"
      ]
     },
     "execution_count": 9,
     "metadata": {},
     "output_type": "execute_result"
    }
   ],
   "source": [
    "# Adding an interactive map.\n",
    "Map = geemap.Map(basemap='ROADMAP', center=[24, 91], zoom=7, height=600, draw = True)\n",
    "\n",
    "# Adding the TERRAIN basemaps.\n",
    "Map.add_basemap(\"TERRAIN\")\n",
    "Map"
   ]
  },
  {
   "cell_type": "code",
   "execution_count": 10,
   "id": "9afc9d24",
   "metadata": {},
   "outputs": [],
   "source": [
    "# Taking a draw feature from the map.\n",
    "feature = Map.draw_last_feature\n",
    "\n",
    "# If drawing does not exist then taking a polygon as the default version.\n",
    "if feature is None:\n",
    "    geom = ee.Geometry.Polygon([[[91.78481923595828, 21.95584672623341],\n",
    "                                 [91.78481923595828, 21.700881280747268],\n",
    "                                 [91.93176137463016, 21.700881280747268],\n",
    "                                 [91.93176137463016, 21.95584672623341]]])\n",
    "    feature = ee.Feature(geom, {})\n",
    "\n",
    "# Define the AOI.\n",
    "AOI = feature.geometry()"
   ]
  },
  {
   "cell_type": "code",
   "execution_count": 11,
   "id": "4d135f06",
   "metadata": {},
   "outputs": [
    {
     "name": "stdout",
     "output_type": "stream",
     "text": [
      "Number of landsat images in AOI:  7\n"
     ]
    }
   ],
   "source": [
    "# Use Landsat 8 surface reflectance data.\n",
    "Landsat_image_collection = (ee.ImageCollection('LANDSAT/LT05/C02/T1_L2')\n",
    "            # filtering image collection by AOI\n",
    "            .filterBounds(AOI)\n",
    "            # filtering image collection by Dates\n",
    "            .filterDate('1990-01-01', '1990-12-31')\n",
    "            # filtering image collection by Metadata (Metadata: Cloud cover)\n",
    "           .filter(ee.Filter.lt('CLOUD_COVER',50))\n",
    "           .sort('CLOUD_COVER',False))\n",
    "\n",
    "print ('Number of landsat images in AOI: ', Landsat_image_collection.size().getInfo())"
   ]
  },
  {
   "cell_type": "code",
   "execution_count": 12,
   "id": "f17249bc",
   "metadata": {},
   "outputs": [],
   "source": [
    "# Apply scaling factors.\n",
    "def apply_scale_factors(image):\n",
    "    opticalBands = image.select('SR_B.').multiply(0.0000275).add(-0.2)\n",
    "    thermalBands = image.select('ST_B6').multiply(0.00341802).add(149.0)\n",
    "    return image.addBands(opticalBands, None, True).addBands(thermalBands, None, True)"
   ]
  },
  {
   "cell_type": "code",
   "execution_count": 13,
   "id": "e5f968f9",
   "metadata": {},
   "outputs": [],
   "source": [
    "# Function for cloud masking\n",
    "def fmask(image):\n",
    "    # QA_PIXEL = Pixel quality attributes generated from the CFMASK algorithm.\n",
    "    # Bit 0 - Fill\n",
    "    # Bit 1 - Dilated Cloud\n",
    "    # Bit 2 - Cirrus\n",
    "    # Bit 3 - Cloud\n",
    "    # Bit 4 - Cloud Shadow\n",
    "    qaMask = image.select('QA_PIXEL').bitwiseAnd(int('11111', 2)).eq(0)\n",
    "\n",
    "    # Apply the scaling factors to the appropriate bands.\n",
    "    opticalBands = image.select('SR_B.').multiply(0.0000275).add(-0.2)\n",
    "    thermalBands = image.select('ST_B6').multiply(0.00341802).add(149.0)\n",
    "\n",
    "    # Replace the original bands with the scaled ones and apply the masks.\n",
    "    return image.addBands(opticalBands, None, True).addBands(thermalBands, None, True).updateMask(qaMask)"
   ]
  },
  {
   "cell_type": "code",
   "execution_count": 14,
   "id": "2c5ca2ba",
   "metadata": {},
   "outputs": [
    {
     "data": {
      "application/vnd.jupyter.widget-view+json": {
       "model_id": "08ea6fa0b7bc4094a25f79e3b1b1a08b",
       "version_major": 2,
       "version_minor": 0
      },
      "text/plain": [
       "Map(center=[21.67588790776114, 91.52602555937419], controls=(ZoomControl(options=['position', 'zoom_in_text', …"
      ]
     },
     "execution_count": 14,
     "metadata": {},
     "output_type": "execute_result"
    }
   ],
   "source": [
    "# Applying scale factor \n",
    "with_cloud_image = Landsat_image_collection.map(apply_scale_factors)\n",
    "\n",
    "# Cloud Masked Image\n",
    "cloud_masked_image = Landsat_image_collection.map(fmask)\n",
    "\n",
    "# Specify visualization parameters.\n",
    "vis_natural = {\n",
    "    'bands': ['SR_B4', 'SR_B3', 'SR_B2'],\n",
    "    'min': 0.0,\n",
    "    'max': 0.3,\n",
    "}\n",
    "\n",
    "vis_nir = {\n",
    "    'bands': ['SR_B5', 'SR_B4', 'SR_B3'],\n",
    "    'min': 0.0,\n",
    "    'max': 0.3,\n",
    "}\n",
    "\n",
    "# Generate Earth Engine layers.\n",
    "left_layer = geemap.ee_tile_layer(with_cloud_image.first(), vis_natural,  'With_Cloud')\n",
    "right_layer = geemap.ee_tile_layer(cloud_masked_image.first(), vis_nir, 'Without_Cloud')\n",
    "\n",
    "# Create a split-panel map.\n",
    "Map_L5 = geemap.Map(height=500)\n",
    "Map_L5.split_map(left_layer, right_layer)\n",
    "Map_L5.centerObject(cloud_masked_image, 9)\n",
    "Map_L5"
   ]
  },
  {
   "cell_type": "code",
   "execution_count": 15,
   "id": "cefe70c9",
   "metadata": {},
   "outputs": [
    {
     "data": {
      "application/vnd.jupyter.widget-view+json": {
       "model_id": "a44978e4677b49cab37f7ac59c1f60fd",
       "version_major": 2,
       "version_minor": 0
      },
      "text/plain": [
       "Map(center=[21.82834239157615, 91.85829030529537], controls=(WidgetControl(options=['position', 'transparent_b…"
      ]
     },
     "execution_count": 15,
     "metadata": {},
     "output_type": "execute_result"
    }
   ],
   "source": [
    "# Getting all image collection for AOI and calculate median and clip the final image.\n",
    "median_image = cloud_masked_image.median().clip(AOI)\n",
    "\n",
    "\n",
    "# Specify visualization parameters.\n",
    "vis_natural = {\n",
    "    'bands': ['SR_B5', 'SR_B4', 'SR_B3'],\n",
    "    'min': 0.0,\n",
    "    'max': 0.3,\n",
    "}\n",
    "\n",
    "# Adding image to the map.\n",
    "Map_all = geemap.Map(height=500)\n",
    "Map_all.addLayer(median_image, vis_natural, 'Landsat-5 composite')\n",
    "Map_all.centerObject(median_image, 11)\n",
    "Map_all"
   ]
  },
  {
   "cell_type": "code",
   "execution_count": 24,
   "id": "52415226",
   "metadata": {},
   "outputs": [],
   "source": [
    "task = ee.batch.Export.image.toDrive(\n",
    "            image = median_image.select([\"SR_B5\",\"SR_B4\",\"SR_B3\"]),\n",
    "            description = 'LandSAT5_Median_1990',\n",
    "            folder = 'LandSAT_Image',\n",
    "            scale = 30)\n",
    "\n",
    "task.start()"
   ]
  },
  {
   "cell_type": "code",
   "execution_count": null,
   "id": "5b8c2558",
   "metadata": {},
   "outputs": [],
   "source": []
  }
 ],
 "metadata": {
  "kernelspec": {
   "display_name": "Python 3 (ipykernel)",
   "language": "python",
   "name": "python3"
  },
  "language_info": {
   "codemirror_mode": {
    "name": "ipython",
    "version": 3
   },
   "file_extension": ".py",
   "mimetype": "text/x-python",
   "name": "python",
   "nbconvert_exporter": "python",
   "pygments_lexer": "ipython3",
   "version": "3.10.11"
  }
 },
 "nbformat": 4,
 "nbformat_minor": 5
}
