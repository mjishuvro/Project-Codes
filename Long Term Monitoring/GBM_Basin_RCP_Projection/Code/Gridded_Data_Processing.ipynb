{
 "cells": [
  {
   "cell_type": "code",
   "execution_count": 3,
   "id": "ca9e7931",
   "metadata": {},
   "outputs": [
    {
     "name": "stderr",
     "output_type": "stream",
     "text": [
      "C:\\Users\\HP\\anaconda3\\envs\\py377\\lib\\site-packages\\ipykernel_launcher.py:77: FutureWarning: As the xlwt package is no longer maintained, the xlwt engine will be removed in a future version of pandas. This is the only engine in pandas that supports writing in the xls format. Install openpyxl and write to an xlsx file instead. You can set the option io.excel.xls.writer to 'xlwt' to silence this warning. While this option is deprecated and will also raise a warning, it can be globally set and the warning suppressed.\n"
     ]
    },
    {
     "name": "stdout",
     "output_type": "stream",
     "text": [
      "Base_Temperature\n",
      "Base_Temperature_2\n"
     ]
    }
   ],
   "source": [
    "import pandas as pd\n",
    "import numpy as np\n",
    "import os\n",
    "import glob\n",
    "\n",
    "# Setting the output folder name to save output file\n",
    "output_folder = r\"E:\\Script\\GBM_Basin_RCP_Projection\\Output\\Processed_Gridded_Data\"\n",
    "\n",
    "# Iterating through all the file in the folder\n",
    "for xlsx_file in glob.glob(r'E:\\Script\\GBM_Basin_RCP_Projection\\Input_Data\\Gridded_Data\\*.xlsx'):\n",
    "\n",
    "    # Splitting the file path to crate the file path list\n",
    "    file_path_list = xlsx_file.split(os.sep)\n",
    "\n",
    "    # Checking if a directory with the file name exist or not\n",
    "    # If it does not exit then creating a directory as file name\n",
    "    if os.path.exists(os.path.join(output_folder, '{}'.format(file_path_list[-1][:-5]))):\n",
    "        pass\n",
    "\n",
    "    else:\n",
    "        os.mkdir(os.path.join(output_folder, '{}'.format(file_path_list[-1][:-5])))\n",
    "\n",
    "    # Setting the output folder path\n",
    "    output_folder_path = os.path.join(output_folder, '{}'.format(file_path_list[-1][:-5]))\n",
    "\n",
    "    # Creating an ExcelFile object by reading the file\n",
    "    excel_file = pd.ExcelFile(xlsx_file)\n",
    "\n",
    "    # Defining a dataframe to create combined dataframe of gridded monthly data\n",
    "    m_df = pd.DataFrame()\n",
    "\n",
    "    # Iterating through each sheet's name\n",
    "    for sheet in excel_file.sheet_names:\n",
    "\n",
    "        # Parsing the sheet and convert it to a Pandas dataframe\n",
    "        df = excel_file.parse(sheet)\n",
    "\n",
    "        # Defining an empty list to store the temperature data of each grid point\n",
    "        data_list = []\n",
    "\n",
    "        # Iterating through each\n",
    "        for lat, i in zip(df['lat\\lon'], range((len(df['lat\\lon'])))):\n",
    "\n",
    "            # Iterating through each longitude to create a dataframe of gridded temperature data\n",
    "            for col in df.columns:\n",
    "                if col != 'lat\\lon':\n",
    "                    # Storing lat, lon and temperature data to a variable and\n",
    "                    # updating it in the defined temperature list\n",
    "                    x = lat, col, df[col][i]\n",
    "                    data_list.append(x)\n",
    "\n",
    "        # Creating a dataframe consisting gridded temperature data from the temperature list\n",
    "        t_df = pd.DataFrame(data_list, columns=['Latitude', 'Longitude', 'Temperature (°C)'])\n",
    "\n",
    "        # Saving the monthly gridded temperature dataframe\n",
    "        monthly_output_file_path = os.path.join(output_folder_path, '{}.xlsx'.format(sheet))\n",
    "        t_df.to_excel(monthly_output_file_path, float_format='%4f', index=False)\n",
    "\n",
    "        # Updating the monthly dataframe in the combined dataframe\n",
    "        if m_df.size == 0:\n",
    "            # Renaming the temperature column name\n",
    "            t_df.rename(columns={\"Temperature (°C)\": sheet}, inplace=True)\n",
    "            m_df = pd.concat([m_df, t_df])\n",
    "\n",
    "        # Merging monthly dataframes by latitude and Longitude columns\n",
    "        else:\n",
    "            t_df.rename(columns={'Temperature (°C)': sheet}, inplace=True)\n",
    "            m_df = pd.merge(m_df, t_df, how='left', left_on=['Latitude', 'Longitude'],\n",
    "                            right_on=['Latitude', 'Longitude'])\n",
    "\n",
    "    # Inserting a point id column at the start ('0'th index) in the merged dataframe\n",
    "    m_df.insert(0, 'Point_ID', ['Point_' + str(x + 1) for x in m_df.index.values])\n",
    "\n",
    "    # Saving the combined monthly gridded temperature dataframe\n",
    "    combined_monthly_file_path = os.path.join(output_folder_path,\n",
    "                                              '{}_combined.xls'.format(file_path_list[-1][:-5]))\n",
    "    m_df.to_excel(combined_monthly_file_path, float_format='%4f', index=False)\n",
    "\n",
    "    print(file_path_list[-1][:-5])\n"
   ]
  },
  {
   "cell_type": "code",
   "execution_count": null,
   "id": "500b7aff",
   "metadata": {},
   "outputs": [],
   "source": []
  }
 ],
 "metadata": {
  "kernelspec": {
   "display_name": "Python 3 (ipykernel)",
   "language": "python",
   "name": "python3"
  },
  "language_info": {
   "codemirror_mode": {
    "name": "ipython",
    "version": 3
   },
   "file_extension": ".py",
   "mimetype": "text/x-python",
   "name": "python",
   "nbconvert_exporter": "python",
   "pygments_lexer": "ipython3",
   "version": "3.7.7"
  }
 },
 "nbformat": 4,
 "nbformat_minor": 5
}
