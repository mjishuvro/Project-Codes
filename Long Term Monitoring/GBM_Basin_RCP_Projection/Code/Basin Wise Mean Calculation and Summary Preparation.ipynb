{
 "cells": [
  {
   "cell_type": "code",
   "execution_count": 2,
   "id": "d2523df6",
   "metadata": {},
   "outputs": [
    {
     "name": "stdout",
     "output_type": "stream",
     "text": [
      "Base_Temperature_2\n",
      "Base_Temperature\n"
     ]
    }
   ],
   "source": [
    "import pandas as pd\n",
    "import numpy as np\n",
    "import glob\n",
    "import os\n",
    "\n",
    "from simpledbf import Dbf5\n",
    "\n",
    "# Setting the input & output directory and also the file type\n",
    "data_directory = r\"E:\\Script\\GBM_Basin_RCP_Projection\\Output\\Basin_Wise_Projection\\Merged\"\n",
    "output_directory = r\"E:\\Script\\GBM_Basin_RCP_Projection\\Output\\Basin_Wise_Projection\"\n",
    "\n",
    "patterns = [\"*_combined_with_grid_points.dbf\", \"*_combined_without_grid_points.dbf\"]\n",
    "\n",
    "# Iterating through the input directory and the getting projection file name\n",
    "# and storing it in a list\n",
    "source_file_list = []\n",
    "\n",
    "for pattern in patterns:\n",
    "    for file in glob.glob(os.path.join(data_directory, pattern)):\n",
    "        file_path_list = file.split(os.sep)\n",
    "        source_file_name = file_path_list[-1].split(pattern[1:])[0]\n",
    "        \n",
    "        if source_file_name in source_file_list:\n",
    "            pass\n",
    "        \n",
    "        else:\n",
    "            source_file_list.append(source_file_name)\n",
    "\n",
    "            \n",
    "# Iterating thorugh the projection name list and calculating the basin wise average value\n",
    "for item in source_file_list:\n",
    "    \n",
    "    # Mean calculation for the basin that contains grid point\n",
    "    with_grid_dbf = Dbf5(os.path.join(data_directory, '{}{}'.format(item, patterns[0][1:])))\n",
    "    with_grid_df = with_grid_dbf.to_dataframe()\n",
    "    with_grid_df.rename(columns={'Remarks' : 'Catchment'}, inplace = True)\n",
    "    \n",
    "    with_grid_mean_df = with_grid_df.iloc[: , 3:].groupby([\"Catchment\"]).mean().reset_index()\n",
    "    \n",
    "    \n",
    "    # Mean calculation for the basin that does not contain grid points\n",
    "    without_grid_dbf = Dbf5(os.path.join(data_directory, '{}{}'.format(item, patterns[1][1:])))\n",
    "    without_grid_df = without_grid_dbf.to_dataframe()\n",
    "    without_grid_df.rename(columns={'Remarks' : 'Catchment'}, inplace = True)\n",
    "    \n",
    "    without_grid_weighted_df = without_grid_df.iloc[:, 5:17].mul(without_grid_df['Weightage'], axis=0)\n",
    "    without_grid_weighted_df['Catchment'] = without_grid_df['Catchment']\n",
    "    without_grid_mean_df = without_grid_weighted_df.groupby([\"Catchment\"]).sum().reset_index()\n",
    "    \n",
    "    \n",
    "    # Combining the dataframe to get all the basin projections summary and sorting them serially\n",
    "    combined_mean_df = pd.concat([with_grid_mean_df, without_grid_mean_df])\n",
    "    combined_mean_df.insert(loc = 0, column = 'Sl', value = combined_mean_df.iloc[:, 0].map(lambda x: int(str(x)[1:])))\n",
    "    combined_mean_df.sort_values(by='Sl', ascending=True, inplace = True)\n",
    "    \n",
    "    # Saving the basin projection dataframe\n",
    "    combined_mean_df.to_csv(os.path.join(output_directory, '{}_Basin_Wise_Summary.csv'.format(item)), \n",
    "                            float_format ='%.2f', index = False)\n",
    "    \n",
    "    print(item)"
   ]
  },
  {
   "cell_type": "code",
   "execution_count": null,
   "id": "afb57449",
   "metadata": {},
   "outputs": [],
   "source": []
  }
 ],
 "metadata": {
  "kernelspec": {
   "display_name": "Python 3 (ipykernel)",
   "language": "python",
   "name": "python3"
  },
  "language_info": {
   "codemirror_mode": {
    "name": "ipython",
    "version": 3
   },
   "file_extension": ".py",
   "mimetype": "text/x-python",
   "name": "python",
   "nbconvert_exporter": "python",
   "pygments_lexer": "ipython3",
   "version": "3.7.7"
  }
 },
 "nbformat": 4,
 "nbformat_minor": 5
}
