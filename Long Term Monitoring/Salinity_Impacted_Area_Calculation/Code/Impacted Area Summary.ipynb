{
 "cells": [
  {
   "cell_type": "code",
   "execution_count": 3,
   "id": "607abbed",
   "metadata": {},
   "outputs": [],
   "source": [
    "import pandas as pd\n",
    "from simpledbf import Dbf5\n",
    "import os\n",
    "import glob\n",
    "\n",
    "# Setting the impacted area database (.dbf) file directory\n",
    "file_directory = r\"E:\\Script\\Salinity_Impacted_Area\\Output\\*.dbf\"\n",
    "\n",
    "# Iterating through each datafile and creating impacted area summary for each scenario\n",
    "for secnario_file in glob.glob(file_directory):\n",
    "    \n",
    "    # Splitting file path and separating the scenario name\n",
    "    file_path_list = secnario_file.split(os.sep)\n",
    "    file_name = file_path_list[-1].split('_')\n",
    "    scenario_name = '{}_{}'.format(file_name[0], file_name[1])\n",
    "    \n",
    "    # Reading the database file and creating district-wise impacted area summary\n",
    "    area_dbf = Dbf5(secnario_file)\n",
    "    area_df = area_dbf.to_dataframe()\n",
    "    \n",
    "    summary_df = pd.pivot_table(data = area_df, values= 'Area_sqkm', columns = 'Remarks', index = 'DISTNAME', \n",
    "                            aggfunc=\"sum\", fill_value = 0.0)\n",
    "    \n",
    "    # Saving the summary file as csv\n",
    "    summary_df.to_csv('Output\\{}_District_Wise_Impacted_Area_Summary.csv'.format(scenario_name), float_format = '%.2f')"
   ]
  },
  {
   "cell_type": "code",
   "execution_count": null,
   "id": "46a88bfe",
   "metadata": {},
   "outputs": [],
   "source": []
  }
 ],
 "metadata": {
  "kernelspec": {
   "display_name": "Python 3 (ipykernel)",
   "language": "python",
   "name": "python3"
  },
  "language_info": {
   "codemirror_mode": {
    "name": "ipython",
    "version": 3
   },
   "file_extension": ".py",
   "mimetype": "text/x-python",
   "name": "python",
   "nbconvert_exporter": "python",
   "pygments_lexer": "ipython3",
   "version": "3.7.7"
  }
 },
 "nbformat": 4,
 "nbformat_minor": 5
}
